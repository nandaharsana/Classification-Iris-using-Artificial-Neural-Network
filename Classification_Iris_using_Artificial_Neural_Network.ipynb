{
  "nbformat": 4,
  "nbformat_minor": 0,
  "metadata": {
    "colab": {
      "name": "Classification Iris using Artificial Neural Network.ipynb",
      "provenance": [],
      "collapsed_sections": []
    },
    "kernelspec": {
      "name": "python3",
      "display_name": "Python 3"
    },
    "language_info": {
      "name": "python"
    }
  },
  "cells": [
    {
      "cell_type": "code",
      "metadata": {
        "colab": {
          "base_uri": "https://localhost:8080/"
        },
        "id": "XmHgWp5KpV0d",
        "outputId": "dd676dd9-12c8-45dd-b145-86949cfb4c41"
      },
      "source": [
        "from google.colab import drive\n",
        "drive.mount ('/content/drive')\n"
      ],
      "execution_count": 1,
      "outputs": [
        {
          "output_type": "stream",
          "name": "stdout",
          "text": [
            "Mounted at /content/drive\n"
          ]
        }
      ]
    },
    {
      "cell_type": "code",
      "metadata": {
        "id": "ml50jzeBpalR"
      },
      "source": [
        "import numpy as np\n",
        "import pandas as pd\n",
        "import matplotlib.pyplot as plt\n",
        "import seaborn as sns"
      ],
      "execution_count": 2,
      "outputs": []
    },
    {
      "cell_type": "code",
      "metadata": {
        "id": "vUuxFlJepapg"
      },
      "source": [
        "df = pd.read_csv ('/content/drive/MyDrive/Colab Notebooks/portfolio/Iris.csv')"
      ],
      "execution_count": 11,
      "outputs": []
    },
    {
      "cell_type": "markdown",
      "metadata": {
        "id": "pjsY1ejqsfi9"
      },
      "source": [
        "![irisss.jpg](data:image/jpeg;base64,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)"
      ]
    },
    {
      "cell_type": "code",
      "metadata": {
        "colab": {
          "base_uri": "https://localhost:8080/",
          "height": 206
        },
        "id": "3F-xcnv3para",
        "outputId": "2f1fa9b4-df7a-48e2-d943-0e039616f006"
      },
      "source": [
        "df.head()"
      ],
      "execution_count": 12,
      "outputs": [
        {
          "output_type": "execute_result",
          "data": {
            "text/plain": [
              "   Id  SepalLengthCm  SepalWidthCm  PetalLengthCm  PetalWidthCm      Species\n",
              "0   1            5.1           3.5            1.4           0.2  Iris-setosa\n",
              "1   2            4.9           3.0            1.4           0.2  Iris-setosa\n",
              "2   3            4.7           3.2            1.3           0.2  Iris-setosa\n",
              "3   4            4.6           3.1            1.5           0.2  Iris-setosa\n",
              "4   5            5.0           3.6            1.4           0.2  Iris-setosa"
            ],
            "text/html": [
              "\n",
              "  <div id=\"df-e1d0b13e-3131-4a03-8ba1-f376c0d658c4\">\n",
              "    <div class=\"colab-df-container\">\n",
              "      <div>\n",
              "<style scoped>\n",
              "    .dataframe tbody tr th:only-of-type {\n",
              "        vertical-align: middle;\n",
              "    }\n",
              "\n",
              "    .dataframe tbody tr th {\n",
              "        vertical-align: top;\n",
              "    }\n",
              "\n",
              "    .dataframe thead th {\n",
              "        text-align: right;\n",
              "    }\n",
              "</style>\n",
              "<table border=\"1\" class=\"dataframe\">\n",
              "  <thead>\n",
              "    <tr style=\"text-align: right;\">\n",
              "      <th></th>\n",
              "      <th>Id</th>\n",
              "      <th>SepalLengthCm</th>\n",
              "      <th>SepalWidthCm</th>\n",
              "      <th>PetalLengthCm</th>\n",
              "      <th>PetalWidthCm</th>\n",
              "      <th>Species</th>\n",
              "    </tr>\n",
              "  </thead>\n",
              "  <tbody>\n",
              "    <tr>\n",
              "      <th>0</th>\n",
              "      <td>1</td>\n",
              "      <td>5.1</td>\n",
              "      <td>3.5</td>\n",
              "      <td>1.4</td>\n",
              "      <td>0.2</td>\n",
              "      <td>Iris-setosa</td>\n",
              "    </tr>\n",
              "    <tr>\n",
              "      <th>1</th>\n",
              "      <td>2</td>\n",
              "      <td>4.9</td>\n",
              "      <td>3.0</td>\n",
              "      <td>1.4</td>\n",
              "      <td>0.2</td>\n",
              "      <td>Iris-setosa</td>\n",
              "    </tr>\n",
              "    <tr>\n",
              "      <th>2</th>\n",
              "      <td>3</td>\n",
              "      <td>4.7</td>\n",
              "      <td>3.2</td>\n",
              "      <td>1.3</td>\n",
              "      <td>0.2</td>\n",
              "      <td>Iris-setosa</td>\n",
              "    </tr>\n",
              "    <tr>\n",
              "      <th>3</th>\n",
              "      <td>4</td>\n",
              "      <td>4.6</td>\n",
              "      <td>3.1</td>\n",
              "      <td>1.5</td>\n",
              "      <td>0.2</td>\n",
              "      <td>Iris-setosa</td>\n",
              "    </tr>\n",
              "    <tr>\n",
              "      <th>4</th>\n",
              "      <td>5</td>\n",
              "      <td>5.0</td>\n",
              "      <td>3.6</td>\n",
              "      <td>1.4</td>\n",
              "      <td>0.2</td>\n",
              "      <td>Iris-setosa</td>\n",
              "    </tr>\n",
              "  </tbody>\n",
              "</table>\n",
              "</div>\n",
              "      <button class=\"colab-df-convert\" onclick=\"convertToInteractive('df-e1d0b13e-3131-4a03-8ba1-f376c0d658c4')\"\n",
              "              title=\"Convert this dataframe to an interactive table.\"\n",
              "              style=\"display:none;\">\n",
              "        \n",
              "  <svg xmlns=\"http://www.w3.org/2000/svg\" height=\"24px\"viewBox=\"0 0 24 24\"\n",
              "       width=\"24px\">\n",
              "    <path d=\"M0 0h24v24H0V0z\" fill=\"none\"/>\n",
              "    <path d=\"M18.56 5.44l.94 2.06.94-2.06 2.06-.94-2.06-.94-.94-2.06-.94 2.06-2.06.94zm-11 1L8.5 8.5l.94-2.06 2.06-.94-2.06-.94L8.5 2.5l-.94 2.06-2.06.94zm10 10l.94 2.06.94-2.06 2.06-.94-2.06-.94-.94-2.06-.94 2.06-2.06.94z\"/><path d=\"M17.41 7.96l-1.37-1.37c-.4-.4-.92-.59-1.43-.59-.52 0-1.04.2-1.43.59L10.3 9.45l-7.72 7.72c-.78.78-.78 2.05 0 2.83L4 21.41c.39.39.9.59 1.41.59.51 0 1.02-.2 1.41-.59l7.78-7.78 2.81-2.81c.8-.78.8-2.07 0-2.86zM5.41 20L4 18.59l7.72-7.72 1.47 1.35L5.41 20z\"/>\n",
              "  </svg>\n",
              "      </button>\n",
              "      \n",
              "  <style>\n",
              "    .colab-df-container {\n",
              "      display:flex;\n",
              "      flex-wrap:wrap;\n",
              "      gap: 12px;\n",
              "    }\n",
              "\n",
              "    .colab-df-convert {\n",
              "      background-color: #E8F0FE;\n",
              "      border: none;\n",
              "      border-radius: 50%;\n",
              "      cursor: pointer;\n",
              "      display: none;\n",
              "      fill: #1967D2;\n",
              "      height: 32px;\n",
              "      padding: 0 0 0 0;\n",
              "      width: 32px;\n",
              "    }\n",
              "\n",
              "    .colab-df-convert:hover {\n",
              "      background-color: #E2EBFA;\n",
              "      box-shadow: 0px 1px 2px rgba(60, 64, 67, 0.3), 0px 1px 3px 1px rgba(60, 64, 67, 0.15);\n",
              "      fill: #174EA6;\n",
              "    }\n",
              "\n",
              "    [theme=dark] .colab-df-convert {\n",
              "      background-color: #3B4455;\n",
              "      fill: #D2E3FC;\n",
              "    }\n",
              "\n",
              "    [theme=dark] .colab-df-convert:hover {\n",
              "      background-color: #434B5C;\n",
              "      box-shadow: 0px 1px 3px 1px rgba(0, 0, 0, 0.15);\n",
              "      filter: drop-shadow(0px 1px 2px rgba(0, 0, 0, 0.3));\n",
              "      fill: #FFFFFF;\n",
              "    }\n",
              "  </style>\n",
              "\n",
              "      <script>\n",
              "        const buttonEl =\n",
              "          document.querySelector('#df-e1d0b13e-3131-4a03-8ba1-f376c0d658c4 button.colab-df-convert');\n",
              "        buttonEl.style.display =\n",
              "          google.colab.kernel.accessAllowed ? 'block' : 'none';\n",
              "\n",
              "        async function convertToInteractive(key) {\n",
              "          const element = document.querySelector('#df-e1d0b13e-3131-4a03-8ba1-f376c0d658c4');\n",
              "          const dataTable =\n",
              "            await google.colab.kernel.invokeFunction('convertToInteractive',\n",
              "                                                     [key], {});\n",
              "          if (!dataTable) return;\n",
              "\n",
              "          const docLinkHtml = 'Like what you see? Visit the ' +\n",
              "            '<a target=\"_blank\" href=https://colab.research.google.com/notebooks/data_table.ipynb>data table notebook</a>'\n",
              "            + ' to learn more about interactive tables.';\n",
              "          element.innerHTML = '';\n",
              "          dataTable['output_type'] = 'display_data';\n",
              "          await google.colab.output.renderOutput(dataTable, element);\n",
              "          const docLink = document.createElement('div');\n",
              "          docLink.innerHTML = docLinkHtml;\n",
              "          element.appendChild(docLink);\n",
              "        }\n",
              "      </script>\n",
              "    </div>\n",
              "  </div>\n",
              "  "
            ]
          },
          "metadata": {},
          "execution_count": 12
        }
      ]
    },
    {
      "cell_type": "markdown",
      "metadata": {
        "id": "uKPoN6Bnsmjn"
      },
      "source": [
        "![iris.jpg](data:image/jpeg;base64,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)"
      ]
    },
    {
      "cell_type": "code",
      "metadata": {
        "colab": {
          "base_uri": "https://localhost:8080/"
        },
        "id": "NtLyyVtkpauh",
        "outputId": "6dd9c725-c315-476a-bf8c-a61c1cffa7c1"
      },
      "source": [
        "df.info() #information in dataset"
      ],
      "execution_count": 13,
      "outputs": [
        {
          "output_type": "stream",
          "name": "stdout",
          "text": [
            "<class 'pandas.core.frame.DataFrame'>\n",
            "RangeIndex: 150 entries, 0 to 149\n",
            "Data columns (total 6 columns):\n",
            " #   Column         Non-Null Count  Dtype  \n",
            "---  ------         --------------  -----  \n",
            " 0   Id             150 non-null    int64  \n",
            " 1   SepalLengthCm  150 non-null    float64\n",
            " 2   SepalWidthCm   150 non-null    float64\n",
            " 3   PetalLengthCm  150 non-null    float64\n",
            " 4   PetalWidthCm   150 non-null    float64\n",
            " 5   Species        150 non-null    object \n",
            "dtypes: float64(4), int64(1), object(1)\n",
            "memory usage: 7.2+ KB\n"
          ]
        }
      ]
    },
    {
      "cell_type": "code",
      "metadata": {
        "colab": {
          "base_uri": "https://localhost:8080/"
        },
        "id": "52MZjpLkpa4p",
        "outputId": "c115c2d0-e3d6-4f41-894c-c6fe2faaeacf"
      },
      "source": [
        "df.shape #to see lot of rows and columns in data"
      ],
      "execution_count": 14,
      "outputs": [
        {
          "output_type": "execute_result",
          "data": {
            "text/plain": [
              "(150, 6)"
            ]
          },
          "metadata": {},
          "execution_count": 14
        }
      ]
    },
    {
      "cell_type": "code",
      "metadata": {
        "colab": {
          "base_uri": "https://localhost:8080/"
        },
        "id": "w7URg2Lopa6k",
        "outputId": "bc9722b8-d010-427f-cf93-3b12f83a46a6"
      },
      "source": [
        "df.Species.value_counts() #to see lot of data on species"
      ],
      "execution_count": 15,
      "outputs": [
        {
          "output_type": "execute_result",
          "data": {
            "text/plain": [
              "Iris-setosa        50\n",
              "Iris-versicolor    50\n",
              "Iris-virginica     50\n",
              "Name: Species, dtype: int64"
            ]
          },
          "metadata": {},
          "execution_count": 15
        }
      ]
    },
    {
      "cell_type": "code",
      "metadata": {
        "colab": {
          "base_uri": "https://localhost:8080/",
          "height": 297
        },
        "id": "jiFBngt_pa8s",
        "outputId": "c850580b-1522-4fbe-e8aa-5520bc15bc2b"
      },
      "source": [
        "sns.countplot(data=df,x='Species') #visualization lot of data on species"
      ],
      "execution_count": 17,
      "outputs": [
        {
          "output_type": "execute_result",
          "data": {
            "text/plain": [
              "<matplotlib.axes._subplots.AxesSubplot at 0x7f07d9a18dd0>"
            ]
          },
          "metadata": {},
          "execution_count": 17
        },
        {
          "output_type": "display_data",
          "data": {
            "text/plain": [
              "<Figure size 432x288 with 1 Axes>"
            ],
            "image/png": "[encoded data removed]"
          },
          "metadata": {
            "needs_background": "light"
          }
        }
      ]
    },
    {
      "cell_type": "markdown",
      "metadata": {
        "id": "0oIodAUqs5Io"
      },
      "source": [
        "![irisss.jpg](data:image/jpeg;base64,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)"
      ]
    },
    {
      "cell_type": "code",
      "metadata": {
        "colab": {
          "base_uri": "https://localhost:8080/"
        },
        "id": "l5ue3_HSpa-y",
        "outputId": "fd101064-817e-4d5e-ec7b-daab0b48e88e"
      },
      "source": [
        "df.isnull().sum() #to see null value"
      ],
      "execution_count": 21,
      "outputs": [
        {
          "output_type": "execute_result",
          "data": {
            "text/plain": [
              "Id               0\n",
              "SepalLengthCm    0\n",
              "SepalWidthCm     0\n",
              "PetalLengthCm    0\n",
              "PetalWidthCm     0\n",
              "Species          0\n",
              "dtype: int64"
            ]
          },
          "metadata": {},
          "execution_count": 21
        }
      ]
    },
    {
      "cell_type": "code",
      "source": [
        "df.duplicated().sum() #to see duplicated value"
      ],
      "metadata": {
        "colab": {
          "base_uri": "https://localhost:8080/"
        },
        "id": "bSFTWl6hB0t8",
        "outputId": "ae32c395-31ae-45f1-8a51-f9b239dab457"
      },
      "execution_count": 22,
      "outputs": [
        {
          "output_type": "execute_result",
          "data": {
            "text/plain": [
              "0"
            ]
          },
          "metadata": {},
          "execution_count": 22
        }
      ]
    },
    {
      "cell_type": "code",
      "metadata": {
        "id": "gm6Nt_GxpbBR"
      },
      "source": [
        "x = df.iloc[:,1:5] #Spliting Feature and label\n",
        "y = df.iloc[:,-1]"
      ],
      "execution_count": 24,
      "outputs": []
    },
    {
      "cell_type": "code",
      "metadata": {
        "colab": {
          "base_uri": "https://localhost:8080/",
          "height": 424
        },
        "id": "3mhvvj1hpbDp",
        "outputId": "c8a273ae-8795-47d9-fae4-fe48273d36d3"
      },
      "source": [
        "x "
      ],
      "execution_count": 25,
      "outputs": [
        {
          "output_type": "execute_result",
          "data": {
            "text/plain": [
              "     SepalLengthCm  SepalWidthCm  PetalLengthCm  PetalWidthCm\n",
              "0              5.1           3.5            1.4           0.2\n",
              "1              4.9           3.0            1.4           0.2\n",
              "2              4.7           3.2            1.3           0.2\n",
              "3              4.6           3.1            1.5           0.2\n",
              "4              5.0           3.6            1.4           0.2\n",
              "..             ...           ...            ...           ...\n",
              "145            6.7           3.0            5.2           2.3\n",
              "146            6.3           2.5            5.0           1.9\n",
              "147            6.5           3.0            5.2           2.0\n",
              "148            6.2           3.4            5.4           2.3\n",
              "149            5.9           3.0            5.1           1.8\n",
              "\n",
              "[150 rows x 4 columns]"
            ],
            "text/html": [
              "\n",
              "  <div id=\"df-82f49054-0407-4bbb-b18b-d1942aa2500f\">\n",
              "    <div class=\"colab-df-container\">\n",
              "      <div>\n",
              "<style scoped>\n",
              "    .dataframe tbody tr th:only-of-type {\n",
              "        vertical-align: middle;\n",
              "    }\n",
              "\n",
              "    .dataframe tbody tr th {\n",
              "        vertical-align: top;\n",
              "    }\n",
              "\n",
              "    .dataframe thead th {\n",
              "        text-align: right;\n",
              "    }\n",
              "</style>\n",
              "<table border=\"1\" class=\"dataframe\">\n",
              "  <thead>\n",
              "    <tr style=\"text-align: right;\">\n",
              "      <th></th>\n",
              "      <th>SepalLengthCm</th>\n",
              "      <th>SepalWidthCm</th>\n",
              "      <th>PetalLengthCm</th>\n",
              "      <th>PetalWidthCm</th>\n",
              "    </tr>\n",
              "  </thead>\n",
              "  <tbody>\n",
              "    <tr>\n",
              "      <th>0</th>\n",
              "      <td>5.1</td>\n",
              "      <td>3.5</td>\n",
              "      <td>1.4</td>\n",
              "      <td>0.2</td>\n",
              "    </tr>\n",
              "    <tr>\n",
              "      <th>1</th>\n",
              "      <td>4.9</td>\n",
              "      <td>3.0</td>\n",
              "      <td>1.4</td>\n",
              "      <td>0.2</td>\n",
              "    </tr>\n",
              "    <tr>\n",
              "      <th>2</th>\n",
              "      <td>4.7</td>\n",
              "      <td>3.2</td>\n",
              "      <td>1.3</td>\n",
              "      <td>0.2</td>\n",
              "    </tr>\n",
              "    <tr>\n",
              "      <th>3</th>\n",
              "      <td>4.6</td>\n",
              "      <td>3.1</td>\n",
              "      <td>1.5</td>\n",
              "      <td>0.2</td>\n",
              "    </tr>\n",
              "    <tr>\n",
              "      <th>4</th>\n",
              "      <td>5.0</td>\n",
              "      <td>3.6</td>\n",
              "      <td>1.4</td>\n",
              "      <td>0.2</td>\n",
              "    </tr>\n",
              "    <tr>\n",
              "      <th>...</th>\n",
              "      <td>...</td>\n",
              "      <td>...</td>\n",
              "      <td>...</td>\n",
              "      <td>...</td>\n",
              "    </tr>\n",
              "    <tr>\n",
              "      <th>145</th>\n",
              "      <td>6.7</td>\n",
              "      <td>3.0</td>\n",
              "      <td>5.2</td>\n",
              "      <td>2.3</td>\n",
              "    </tr>\n",
              "    <tr>\n",
              "      <th>146</th>\n",
              "      <td>6.3</td>\n",
              "      <td>2.5</td>\n",
              "      <td>5.0</td>\n",
              "      <td>1.9</td>\n",
              "    </tr>\n",
              "    <tr>\n",
              "      <th>147</th>\n",
              "      <td>6.5</td>\n",
              "      <td>3.0</td>\n",
              "      <td>5.2</td>\n",
              "      <td>2.0</td>\n",
              "    </tr>\n",
              "    <tr>\n",
              "      <th>148</th>\n",
              "      <td>6.2</td>\n",
              "      <td>3.4</td>\n",
              "      <td>5.4</td>\n",
              "      <td>2.3</td>\n",
              "    </tr>\n",
              "    <tr>\n",
              "      <th>149</th>\n",
              "      <td>5.9</td>\n",
              "      <td>3.0</td>\n",
              "      <td>5.1</td>\n",
              "      <td>1.8</td>\n",
              "    </tr>\n",
              "  </tbody>\n",
              "</table>\n",
              "<p>150 rows × 4 columns</p>\n",
              "</div>\n",
              "      <button class=\"colab-df-convert\" onclick=\"convertToInteractive('df-82f49054-0407-4bbb-b18b-d1942aa2500f')\"\n",
              "              title=\"Convert this dataframe to an interactive table.\"\n",
              "              style=\"display:none;\">\n",
              "        \n",
              "  <svg xmlns=\"http://www.w3.org/2000/svg\" height=\"24px\"viewBox=\"0 0 24 24\"\n",
              "       width=\"24px\">\n",
              "    <path d=\"M0 0h24v24H0V0z\" fill=\"none\"/>\n",
              "    <path d=\"M18.56 5.44l.94 2.06.94-2.06 2.06-.94-2.06-.94-.94-2.06-.94 2.06-2.06.94zm-11 1L8.5 8.5l.94-2.06 2.06-.94-2.06-.94L8.5 2.5l-.94 2.06-2.06.94zm10 10l.94 2.06.94-2.06 2.06-.94-2.06-.94-.94-2.06-.94 2.06-2.06.94z\"/><path d=\"M17.41 7.96l-1.37-1.37c-.4-.4-.92-.59-1.43-.59-.52 0-1.04.2-1.43.59L10.3 9.45l-7.72 7.72c-.78.78-.78 2.05 0 2.83L4 21.41c.39.39.9.59 1.41.59.51 0 1.02-.2 1.41-.59l7.78-7.78 2.81-2.81c.8-.78.8-2.07 0-2.86zM5.41 20L4 18.59l7.72-7.72 1.47 1.35L5.41 20z\"/>\n",
              "  </svg>\n",
              "      </button>\n",
              "      \n",
              "  <style>\n",
              "    .colab-df-container {\n",
              "      display:flex;\n",
              "      flex-wrap:wrap;\n",
              "      gap: 12px;\n",
              "    }\n",
              "\n",
              "    .colab-df-convert {\n",
              "      background-color: #E8F0FE;\n",
              "      border: none;\n",
              "      border-radius: 50%;\n",
              "      cursor: pointer;\n",
              "      display: none;\n",
              "      fill: #1967D2;\n",
              "      height: 32px;\n",
              "      padding: 0 0 0 0;\n",
              "      width: 32px;\n",
              "    }\n",
              "\n",
              "    .colab-df-convert:hover {\n",
              "      background-color: #E2EBFA;\n",
              "      box-shadow: 0px 1px 2px rgba(60, 64, 67, 0.3), 0px 1px 3px 1px rgba(60, 64, 67, 0.15);\n",
              "      fill: #174EA6;\n",
              "    }\n",
              "\n",
              "    [theme=dark] .colab-df-convert {\n",
              "      background-color: #3B4455;\n",
              "      fill: #D2E3FC;\n",
              "    }\n",
              "\n",
              "    [theme=dark] .colab-df-convert:hover {\n",
              "      background-color: #434B5C;\n",
              "      box-shadow: 0px 1px 3px 1px rgba(0, 0, 0, 0.15);\n",
              "      filter: drop-shadow(0px 1px 2px rgba(0, 0, 0, 0.3));\n",
              "      fill: #FFFFFF;\n",
              "    }\n",
              "  </style>\n",
              "\n",
              "      <script>\n",
              "        const buttonEl =\n",
              "          document.querySelector('#df-82f49054-0407-4bbb-b18b-d1942aa2500f button.colab-df-convert');\n",
              "        buttonEl.style.display =\n",
              "          google.colab.kernel.accessAllowed ? 'block' : 'none';\n",
              "\n",
              "        async function convertToInteractive(key) {\n",
              "          const element = document.querySelector('#df-82f49054-0407-4bbb-b18b-d1942aa2500f');\n",
              "          const dataTable =\n",
              "            await google.colab.kernel.invokeFunction('convertToInteractive',\n",
              "                                                     [key], {});\n",
              "          if (!dataTable) return;\n",
              "\n",
              "          const docLinkHtml = 'Like what you see? Visit the ' +\n",
              "            '<a target=\"_blank\" href=https://colab.research.google.com/notebooks/data_table.ipynb>data table notebook</a>'\n",
              "            + ' to learn more about interactive tables.';\n",
              "          element.innerHTML = '';\n",
              "          dataTable['output_type'] = 'display_data';\n",
              "          await google.colab.output.renderOutput(dataTable, element);\n",
              "          const docLink = document.createElement('div');\n",
              "          docLink.innerHTML = docLinkHtml;\n",
              "          element.appendChild(docLink);\n",
              "        }\n",
              "      </script>\n",
              "    </div>\n",
              "  </div>\n",
              "  "
            ]
          },
          "metadata": {},
          "execution_count": 25
        }
      ]
    },
    {
      "cell_type": "code",
      "metadata": {
        "colab": {
          "base_uri": "https://localhost:8080/"
        },
        "id": "Z7r3NDMWpbGB",
        "outputId": "60492cc8-4c30-4196-a186-0915d622f20f"
      },
      "source": [
        "y"
      ],
      "execution_count": 26,
      "outputs": [
        {
          "output_type": "execute_result",
          "data": {
            "text/plain": [
              "0         Iris-setosa\n",
              "1         Iris-setosa\n",
              "2         Iris-setosa\n",
              "3         Iris-setosa\n",
              "4         Iris-setosa\n",
              "            ...      \n",
              "145    Iris-virginica\n",
              "146    Iris-virginica\n",
              "147    Iris-virginica\n",
              "148    Iris-virginica\n",
              "149    Iris-virginica\n",
              "Name: Species, Length: 150, dtype: object"
            ]
          },
          "metadata": {},
          "execution_count": 26
        }
      ]
    },
    {
      "cell_type": "code",
      "metadata": {
        "colab": {
          "base_uri": "https://localhost:8080/"
        },
        "id": "4MRqFkBvpbIS",
        "outputId": "77165544-654d-4b6f-bf72-2075ab0bc8ec"
      },
      "source": [
        "from sklearn import preprocessing #label encoder: text --> numeric\n",
        "le = preprocessing.LabelEncoder() #panggil LE\n",
        "le.fit(y)\n",
        "y = le.transform(y) #ubah class yang masih text ke numeric\n",
        "\n",
        "y"
      ],
      "execution_count": 27,
      "outputs": [
        {
          "output_type": "execute_result",
          "data": {
            "text/plain": [
              "array([0, 0, 0, 0, 0, 0, 0, 0, 0, 0, 0, 0, 0, 0, 0, 0, 0, 0, 0, 0, 0, 0,\n",
              "       0, 0, 0, 0, 0, 0, 0, 0, 0, 0, 0, 0, 0, 0, 0, 0, 0, 0, 0, 0, 0, 0,\n",
              "       0, 0, 0, 0, 0, 0, 1, 1, 1, 1, 1, 1, 1, 1, 1, 1, 1, 1, 1, 1, 1, 1,\n",
              "       1, 1, 1, 1, 1, 1, 1, 1, 1, 1, 1, 1, 1, 1, 1, 1, 1, 1, 1, 1, 1, 1,\n",
              "       1, 1, 1, 1, 1, 1, 1, 1, 1, 1, 1, 1, 2, 2, 2, 2, 2, 2, 2, 2, 2, 2,\n",
              "       2, 2, 2, 2, 2, 2, 2, 2, 2, 2, 2, 2, 2, 2, 2, 2, 2, 2, 2, 2, 2, 2,\n",
              "       2, 2, 2, 2, 2, 2, 2, 2, 2, 2, 2, 2, 2, 2, 2, 2, 2, 2])"
            ]
          },
          "metadata": {},
          "execution_count": 27
        }
      ]
    },
    {
      "cell_type": "code",
      "metadata": {
        "colab": {
          "base_uri": "https://localhost:8080/"
        },
        "id": "8M-fTeLCpbKr",
        "outputId": "2ac050a8-de04-4046-db9d-e894f526b131"
      },
      "source": [
        "le.transform ([\"Iris-setosa\", \"Iris-versicolor\", \"Iris-virginica\"])"
      ],
      "execution_count": 28,
      "outputs": [
        {
          "output_type": "execute_result",
          "data": {
            "text/plain": [
              "array([0, 1, 2])"
            ]
          },
          "metadata": {},
          "execution_count": 28
        }
      ]
    },
    {
      "cell_type": "code",
      "metadata": {
        "colab": {
          "base_uri": "https://localhost:8080/"
        },
        "id": "OolFEQ3RqnKN",
        "outputId": "7459b246-7890-4ccd-9a31-af7867ceee1a"
      },
      "source": [
        "from keras.utils.np_utils import to_categorical\n",
        "\n",
        "y_categorical = to_categorical(y) \n",
        "y_categorical.shape"
      ],
      "execution_count": 30,
      "outputs": [
        {
          "output_type": "execute_result",
          "data": {
            "text/plain": [
              "(150, 3)"
            ]
          },
          "metadata": {},
          "execution_count": 30
        }
      ]
    },
    {
      "cell_type": "code",
      "metadata": {
        "colab": {
          "base_uri": "https://localhost:8080/"
        },
        "id": "6ZkxD-T2Lz6r",
        "outputId": "d922b23a-8e26-4a1f-df43-c631a9e96b1e"
      },
      "source": [
        "y_categorical"
      ],
      "execution_count": 31,
      "outputs": [
        {
          "output_type": "execute_result",
          "data": {
            "text/plain": [
              "array([[1., 0., 0.],\n",
              "       [1., 0., 0.],\n",
              "       [1., 0., 0.],\n",
              "       [1., 0., 0.],\n",
              "       [1., 0., 0.],\n",
              "       [1., 0., 0.],\n",
              "       [1., 0., 0.],\n",
              "       [1., 0., 0.],\n",
              "       [1., 0., 0.],\n",
              "       [1., 0., 0.],\n",
              "       [1., 0., 0.],\n",
              "       [1., 0., 0.],\n",
              "       [1., 0., 0.],\n",
              "       [1., 0., 0.],\n",
              "       [1., 0., 0.],\n",
              "       [1., 0., 0.],\n",
              "       [1., 0., 0.],\n",
              "       [1., 0., 0.],\n",
              "       [1., 0., 0.],\n",
              "       [1., 0., 0.],\n",
              "       [1., 0., 0.],\n",
              "       [1., 0., 0.],\n",
              "       [1., 0., 0.],\n",
              "       [1., 0., 0.],\n",
              "       [1., 0., 0.],\n",
              "       [1., 0., 0.],\n",
              "       [1., 0., 0.],\n",
              "       [1., 0., 0.],\n",
              "       [1., 0., 0.],\n",
              "       [1., 0., 0.],\n",
              "       [1., 0., 0.],\n",
              "       [1., 0., 0.],\n",
              "       [1., 0., 0.],\n",
              "       [1., 0., 0.],\n",
              "       [1., 0., 0.],\n",
              "       [1., 0., 0.],\n",
              "       [1., 0., 0.],\n",
              "       [1., 0., 0.],\n",
              "       [1., 0., 0.],\n",
              "       [1., 0., 0.],\n",
              "       [1., 0., 0.],\n",
              "       [1., 0., 0.],\n",
              "       [1., 0., 0.],\n",
              "       [1., 0., 0.],\n",
              "       [1., 0., 0.],\n",
              "       [1., 0., 0.],\n",
              "       [1., 0., 0.],\n",
              "       [1., 0., 0.],\n",
              "       [1., 0., 0.],\n",
              "       [1., 0., 0.],\n",
              "       [0., 1., 0.],\n",
              "       [0., 1., 0.],\n",
              "       [0., 1., 0.],\n",
              "       [0., 1., 0.],\n",
              "       [0., 1., 0.],\n",
              "       [0., 1., 0.],\n",
              "       [0., 1., 0.],\n",
              "       [0., 1., 0.],\n",
              "       [0., 1., 0.],\n",
              "       [0., 1., 0.],\n",
              "       [0., 1., 0.],\n",
              "       [0., 1., 0.],\n",
              "       [0., 1., 0.],\n",
              "       [0., 1., 0.],\n",
              "       [0., 1., 0.],\n",
              "       [0., 1., 0.],\n",
              "       [0., 1., 0.],\n",
              "       [0., 1., 0.],\n",
              "       [0., 1., 0.],\n",
              "       [0., 1., 0.],\n",
              "       [0., 1., 0.],\n",
              "       [0., 1., 0.],\n",
              "       [0., 1., 0.],\n",
              "       [0., 1., 0.],\n",
              "       [0., 1., 0.],\n",
              "       [0., 1., 0.],\n",
              "       [0., 1., 0.],\n",
              "       [0., 1., 0.],\n",
              "       [0., 1., 0.],\n",
              "       [0., 1., 0.],\n",
              "       [0., 1., 0.],\n",
              "       [0., 1., 0.],\n",
              "       [0., 1., 0.],\n",
              "       [0., 1., 0.],\n",
              "       [0., 1., 0.],\n",
              "       [0., 1., 0.],\n",
              "       [0., 1., 0.],\n",
              "       [0., 1., 0.],\n",
              "       [0., 1., 0.],\n",
              "       [0., 1., 0.],\n",
              "       [0., 1., 0.],\n",
              "       [0., 1., 0.],\n",
              "       [0., 1., 0.],\n",
              "       [0., 1., 0.],\n",
              "       [0., 1., 0.],\n",
              "       [0., 1., 0.],\n",
              "       [0., 1., 0.],\n",
              "       [0., 1., 0.],\n",
              "       [0., 1., 0.],\n",
              "       [0., 1., 0.],\n",
              "       [0., 0., 1.],\n",
              "       [0., 0., 1.],\n",
              "       [0., 0., 1.],\n",
              "       [0., 0., 1.],\n",
              "       [0., 0., 1.],\n",
              "       [0., 0., 1.],\n",
              "       [0., 0., 1.],\n",
              "       [0., 0., 1.],\n",
              "       [0., 0., 1.],\n",
              "       [0., 0., 1.],\n",
              "       [0., 0., 1.],\n",
              "       [0., 0., 1.],\n",
              "       [0., 0., 1.],\n",
              "       [0., 0., 1.],\n",
              "       [0., 0., 1.],\n",
              "       [0., 0., 1.],\n",
              "       [0., 0., 1.],\n",
              "       [0., 0., 1.],\n",
              "       [0., 0., 1.],\n",
              "       [0., 0., 1.],\n",
              "       [0., 0., 1.],\n",
              "       [0., 0., 1.],\n",
              "       [0., 0., 1.],\n",
              "       [0., 0., 1.],\n",
              "       [0., 0., 1.],\n",
              "       [0., 0., 1.],\n",
              "       [0., 0., 1.],\n",
              "       [0., 0., 1.],\n",
              "       [0., 0., 1.],\n",
              "       [0., 0., 1.],\n",
              "       [0., 0., 1.],\n",
              "       [0., 0., 1.],\n",
              "       [0., 0., 1.],\n",
              "       [0., 0., 1.],\n",
              "       [0., 0., 1.],\n",
              "       [0., 0., 1.],\n",
              "       [0., 0., 1.],\n",
              "       [0., 0., 1.],\n",
              "       [0., 0., 1.],\n",
              "       [0., 0., 1.],\n",
              "       [0., 0., 1.],\n",
              "       [0., 0., 1.],\n",
              "       [0., 0., 1.],\n",
              "       [0., 0., 1.],\n",
              "       [0., 0., 1.],\n",
              "       [0., 0., 1.],\n",
              "       [0., 0., 1.],\n",
              "       [0., 0., 1.],\n",
              "       [0., 0., 1.],\n",
              "       [0., 0., 1.]], dtype=float32)"
            ]
          },
          "metadata": {},
          "execution_count": 31
        }
      ]
    },
    {
      "cell_type": "code",
      "metadata": {
        "colab": {
          "base_uri": "https://localhost:8080/"
        },
        "id": "f0yo5Yc-qnMv",
        "outputId": "419e902e-03d3-479f-a057-eafde5f98751"
      },
      "source": [
        "from sklearn.preprocessing import normalize\n",
        "normalize_x = normalize(x,norm=\"l2\") \n",
        "\n",
        "normalize_x.shape"
      ],
      "execution_count": 33,
      "outputs": [
        {
          "output_type": "execute_result",
          "data": {
            "text/plain": [
              "(150, 4)"
            ]
          },
          "metadata": {},
          "execution_count": 33
        }
      ]
    },
    {
      "cell_type": "code",
      "metadata": {
        "colab": {
          "base_uri": "https://localhost:8080/"
        },
        "id": "9veh569vqnPB",
        "outputId": "6ad91ae8-9cb1-4f7c-be8c-68636eb07692"
      },
      "source": [
        "normalize_x"
      ],
      "execution_count": 34,
      "outputs": [
        {
          "output_type": "execute_result",
          "data": {
            "text/plain": [
              "array([[0.80377277, 0.55160877, 0.22064351, 0.0315205 ],\n",
              "       [0.82813287, 0.50702013, 0.23660939, 0.03380134],\n",
              "       [0.80533308, 0.54831188, 0.2227517 , 0.03426949],\n",
              "       [0.80003025, 0.53915082, 0.26087943, 0.03478392],\n",
              "       [0.790965  , 0.5694948 , 0.2214702 , 0.0316386 ],\n",
              "       [0.78417499, 0.5663486 , 0.2468699 , 0.05808704],\n",
              "       [0.78010936, 0.57660257, 0.23742459, 0.0508767 ],\n",
              "       [0.80218492, 0.54548574, 0.24065548, 0.0320874 ],\n",
              "       [0.80642366, 0.5315065 , 0.25658935, 0.03665562],\n",
              "       [0.81803119, 0.51752994, 0.25041771, 0.01669451],\n",
              "       [0.80373519, 0.55070744, 0.22325977, 0.02976797],\n",
              "       [0.786991  , 0.55745196, 0.26233033, 0.03279129],\n",
              "       [0.82307218, 0.51442011, 0.24006272, 0.01714734],\n",
              "       [0.8025126 , 0.55989251, 0.20529392, 0.01866308],\n",
              "       [0.81120865, 0.55945424, 0.16783627, 0.02797271],\n",
              "       [0.77381111, 0.59732787, 0.2036345 , 0.05430253],\n",
              "       [0.79428944, 0.57365349, 0.19121783, 0.05883625],\n",
              "       [0.80327412, 0.55126656, 0.22050662, 0.04725142],\n",
              "       [0.8068282 , 0.53788547, 0.24063297, 0.04246464],\n",
              "       [0.77964883, 0.58091482, 0.22930848, 0.0458617 ],\n",
              "       [0.8173379 , 0.51462016, 0.25731008, 0.03027177],\n",
              "       [0.78591858, 0.57017622, 0.23115252, 0.06164067],\n",
              "       [0.77577075, 0.60712493, 0.16864581, 0.03372916],\n",
              "       [0.80597792, 0.52151512, 0.26865931, 0.07901744],\n",
              "       [0.776114  , 0.54974742, 0.30721179, 0.03233808],\n",
              "       [0.82647451, 0.4958847 , 0.26447184, 0.03305898],\n",
              "       [0.79778206, 0.5424918 , 0.25529026, 0.06382256],\n",
              "       [0.80641965, 0.54278246, 0.23262105, 0.03101614],\n",
              "       [0.81609427, 0.5336001 , 0.21971769, 0.03138824],\n",
              "       [0.79524064, 0.54144043, 0.27072022, 0.03384003],\n",
              "       [0.80846584, 0.52213419, 0.26948861, 0.03368608],\n",
              "       [0.82225028, 0.51771314, 0.22840286, 0.06090743],\n",
              "       [0.76578311, 0.60379053, 0.22089897, 0.0147266 ],\n",
              "       [0.77867447, 0.59462414, 0.19820805, 0.02831544],\n",
              "       [0.81803119, 0.51752994, 0.25041771, 0.01669451],\n",
              "       [0.82512295, 0.52807869, 0.19802951, 0.03300492],\n",
              "       [0.82699754, 0.52627116, 0.19547215, 0.03007264],\n",
              "       [0.81803119, 0.51752994, 0.25041771, 0.01669451],\n",
              "       [0.80212413, 0.54690282, 0.23699122, 0.03646019],\n",
              "       [0.80779568, 0.53853046, 0.23758697, 0.03167826],\n",
              "       [0.80033301, 0.56023311, 0.20808658, 0.04801998],\n",
              "       [0.86093857, 0.44003527, 0.24871559, 0.0573959 ],\n",
              "       [0.78609038, 0.57170209, 0.23225397, 0.03573138],\n",
              "       [0.78889479, 0.55222635, 0.25244633, 0.09466737],\n",
              "       [0.76693897, 0.57144472, 0.28572236, 0.06015208],\n",
              "       [0.82210585, 0.51381615, 0.23978087, 0.05138162],\n",
              "       [0.77729093, 0.57915795, 0.24385598, 0.030482  ],\n",
              "       [0.79594782, 0.55370283, 0.24224499, 0.03460643],\n",
              "       [0.79837025, 0.55735281, 0.22595384, 0.03012718],\n",
              "       [0.81228363, 0.5361072 , 0.22743942, 0.03249135],\n",
              "       [0.76701103, 0.35063361, 0.51499312, 0.15340221],\n",
              "       [0.74549757, 0.37274878, 0.52417798, 0.17472599],\n",
              "       [0.75519285, 0.33928954, 0.53629637, 0.16417236],\n",
              "       [0.75384916, 0.31524601, 0.54825394, 0.17818253],\n",
              "       [0.7581754 , 0.32659863, 0.5365549 , 0.17496355],\n",
              "       [0.72232962, 0.35482858, 0.57026022, 0.16474184],\n",
              "       [0.72634846, 0.38046824, 0.54187901, 0.18446945],\n",
              "       [0.75916547, 0.37183615, 0.51127471, 0.15493173],\n",
              "       [0.76301853, 0.33526572, 0.53180079, 0.15029153],\n",
              "       [0.72460233, 0.37623583, 0.54345175, 0.19508524],\n",
              "       [0.76923077, 0.30769231, 0.53846154, 0.15384615],\n",
              "       [0.73923462, 0.37588201, 0.52623481, 0.187941  ],\n",
              "       [0.78892752, 0.28927343, 0.52595168, 0.13148792],\n",
              "       [0.73081412, 0.34743622, 0.56308629, 0.16772783],\n",
              "       [0.75911707, 0.3931142 , 0.48800383, 0.17622361],\n",
              "       [0.76945444, 0.35601624, 0.50531337, 0.16078153],\n",
              "       [0.70631892, 0.37838513, 0.5675777 , 0.18919257],\n",
              "       [0.75676497, 0.35228714, 0.53495455, 0.13047672],\n",
              "       [0.76444238, 0.27125375, 0.55483721, 0.18494574],\n",
              "       [0.76185188, 0.34011245, 0.53057542, 0.14964948],\n",
              "       [0.6985796 , 0.37889063, 0.56833595, 0.21312598],\n",
              "       [0.77011854, 0.35349703, 0.50499576, 0.16412362],\n",
              "       [0.74143307, 0.29421947, 0.57667016, 0.17653168],\n",
              "       [0.73659895, 0.33811099, 0.56754345, 0.14490471],\n",
              "       [0.76741698, 0.34773582, 0.51560829, 0.15588157],\n",
              "       [0.76785726, 0.34902603, 0.51190484, 0.16287881],\n",
              "       [0.76467269, 0.31486523, 0.53976896, 0.15743261],\n",
              "       [0.74088576, 0.33173989, 0.55289982, 0.18798594],\n",
              "       [0.73350949, 0.35452959, 0.55013212, 0.18337737],\n",
              "       [0.78667474, 0.35883409, 0.48304589, 0.13801311],\n",
              "       [0.76521855, 0.33391355, 0.52869645, 0.15304371],\n",
              "       [0.77242925, 0.33706004, 0.51963422, 0.14044168],\n",
              "       [0.76434981, 0.35581802, 0.51395936, 0.15814134],\n",
              "       [0.70779525, 0.31850786, 0.60162596, 0.1887454 ],\n",
              "       [0.69333409, 0.38518561, 0.57777841, 0.1925928 ],\n",
              "       [0.71524936, 0.40530797, 0.53643702, 0.19073316],\n",
              "       [0.75457341, 0.34913098, 0.52932761, 0.16893434],\n",
              "       [0.77530021, 0.28304611, 0.54147951, 0.15998258],\n",
              "       [0.72992443, 0.39103094, 0.53440896, 0.16944674],\n",
              "       [0.74714194, 0.33960997, 0.54337595, 0.17659719],\n",
              "       [0.72337118, 0.34195729, 0.57869695, 0.15782644],\n",
              "       [0.73260391, 0.36029701, 0.55245541, 0.1681386 ],\n",
              "       [0.76262994, 0.34186859, 0.52595168, 0.1577855 ],\n",
              "       [0.76986879, 0.35413965, 0.5081134 , 0.15397376],\n",
              "       [0.73544284, 0.35458851, 0.55158213, 0.1707278 ],\n",
              "       [0.73239618, 0.38547167, 0.53966034, 0.15418867],\n",
              "       [0.73446047, 0.37367287, 0.5411814 , 0.16750853],\n",
              "       [0.75728103, 0.3542121 , 0.52521104, 0.15878473],\n",
              "       [0.78258054, 0.38361791, 0.4603415 , 0.16879188],\n",
              "       [0.7431482 , 0.36505526, 0.5345452 , 0.16948994],\n",
              "       [0.65387747, 0.34250725, 0.62274045, 0.25947519],\n",
              "       [0.69052512, 0.32145135, 0.60718588, 0.22620651],\n",
              "       [0.71491405, 0.30207636, 0.59408351, 0.21145345],\n",
              "       [0.69276796, 0.31889319, 0.61579374, 0.1979337 ],\n",
              "       [0.68619022, 0.31670318, 0.61229281, 0.232249  ],\n",
              "       [0.70953708, 0.28008043, 0.61617694, 0.1960563 ],\n",
              "       [0.67054118, 0.34211284, 0.61580312, 0.23263673],\n",
              "       [0.71366557, 0.28351098, 0.61590317, 0.17597233],\n",
              "       [0.71414125, 0.26647062, 0.61821183, 0.19185884],\n",
              "       [0.69198788, 0.34599394, 0.58626751, 0.24027357],\n",
              "       [0.71562645, 0.3523084 , 0.56149152, 0.22019275],\n",
              "       [0.71576546, 0.30196356, 0.59274328, 0.21249287],\n",
              "       [0.71718148, 0.31640359, 0.58007326, 0.22148252],\n",
              "       [0.6925518 , 0.30375079, 0.60750157, 0.24300063],\n",
              "       [0.67767924, 0.32715549, 0.59589036, 0.28041899],\n",
              "       [0.69589887, 0.34794944, 0.57629125, 0.25008866],\n",
              "       [0.70610474, 0.3258945 , 0.59747324, 0.1955367 ],\n",
              "       [0.69299099, 0.34199555, 0.60299216, 0.19799743],\n",
              "       [0.70600618, 0.2383917 , 0.63265489, 0.21088496],\n",
              "       [0.72712585, 0.26661281, 0.60593821, 0.18178146],\n",
              "       [0.70558934, 0.32722984, 0.58287815, 0.23519645],\n",
              "       [0.68307923, 0.34153961, 0.59769433, 0.24395687],\n",
              "       [0.71486543, 0.25995106, 0.62202576, 0.18567933],\n",
              "       [0.73122464, 0.31338199, 0.56873028, 0.20892133],\n",
              "       [0.69595601, 0.3427843 , 0.59208198, 0.21813547],\n",
              "       [0.71529453, 0.31790868, 0.59607878, 0.17882363],\n",
              "       [0.72785195, 0.32870733, 0.56349829, 0.21131186],\n",
              "       [0.71171214, 0.35002236, 0.57170319, 0.21001342],\n",
              "       [0.69594002, 0.30447376, 0.60894751, 0.22835532],\n",
              "       [0.73089855, 0.30454106, 0.58877939, 0.1624219 ],\n",
              "       [0.72766159, 0.27533141, 0.59982915, 0.18683203],\n",
              "       [0.71578999, 0.34430405, 0.5798805 , 0.18121266],\n",
              "       [0.69417747, 0.30370264, 0.60740528, 0.2386235 ],\n",
              "       [0.72366005, 0.32162669, 0.58582004, 0.17230001],\n",
              "       [0.69385414, 0.29574111, 0.63698085, 0.15924521],\n",
              "       [0.73154399, 0.28501714, 0.57953485, 0.21851314],\n",
              "       [0.67017484, 0.36168166, 0.59571097, 0.2553047 ],\n",
              "       [0.69804799, 0.338117  , 0.59988499, 0.196326  ],\n",
              "       [0.71066905, 0.35533453, 0.56853524, 0.21320072],\n",
              "       [0.72415258, 0.32534391, 0.56672811, 0.22039426],\n",
              "       [0.69997037, 0.32386689, 0.58504986, 0.25073566],\n",
              "       [0.73337886, 0.32948905, 0.54206264, 0.24445962],\n",
              "       [0.69052512, 0.32145135, 0.60718588, 0.22620651],\n",
              "       [0.69193502, 0.32561648, 0.60035539, 0.23403685],\n",
              "       [0.68914871, 0.33943145, 0.58629069, 0.25714504],\n",
              "       [0.72155725, 0.32308533, 0.56001458, 0.24769876],\n",
              "       [0.72965359, 0.28954508, 0.57909015, 0.22005426],\n",
              "       [0.71653899, 0.3307103 , 0.57323119, 0.22047353],\n",
              "       [0.67467072, 0.36998072, 0.58761643, 0.25028107],\n",
              "       [0.69025916, 0.35097923, 0.5966647 , 0.21058754]])"
            ]
          },
          "metadata": {},
          "execution_count": 34
        }
      ]
    },
    {
      "cell_type": "code",
      "metadata": {
        "id": "gn1gzupeqnRF"
      },
      "source": [
        "from sklearn.model_selection import train_test_split\n",
        "xtrain,xtest,ytrain,ytest = train_test_split(normalize_x,y_categorical,test_size=0.30,random_state=1)"
      ],
      "execution_count": 35,
      "outputs": []
    },
    {
      "cell_type": "code",
      "metadata": {
        "colab": {
          "base_uri": "https://localhost:8080/"
        },
        "id": "jTwX9hrDqnTH",
        "outputId": "2d814a30-d4e2-4577-8f0f-6b3ab791a45e"
      },
      "source": [
        "ytrain.shape"
      ],
      "execution_count": 36,
      "outputs": [
        {
          "output_type": "execute_result",
          "data": {
            "text/plain": [
              "(105, 3)"
            ]
          },
          "metadata": {},
          "execution_count": 36
        }
      ]
    },
    {
      "cell_type": "code",
      "metadata": {
        "colab": {
          "base_uri": "https://localhost:8080/"
        },
        "id": "5MEBoi7RqnVg",
        "outputId": "bc29367d-b2fa-4fa4-e90c-21dc2252bd40"
      },
      "source": [
        "ytest.shape"
      ],
      "execution_count": 37,
      "outputs": [
        {
          "output_type": "execute_result",
          "data": {
            "text/plain": [
              "(45, 3)"
            ]
          },
          "metadata": {},
          "execution_count": 37
        }
      ]
    },
    {
      "cell_type": "code",
      "metadata": {
        "colab": {
          "base_uri": "https://localhost:8080/"
        },
        "id": "Td4-tFDmqnX1",
        "outputId": "4c58b384-3cfe-44d9-b3c7-b357436d1a93"
      },
      "source": [
        "from keras.models import Sequential\n",
        "from keras.layers import Dense, Dropout\n",
        "from tensorflow.keras.optimizers import Adam \n",
        "\n",
        "model = Sequential()\n",
        "\n",
        "model.add(Dense(32, input_dim = 4, activation = 'relu')) \n",
        "model.add(Dense(64, activation = 'relu'))\n",
        "model.add(Dense(128, activation = 'relu'))\n",
        "model.add(Dense(64, activation = 'relu'))\n",
        "model.add(Dense(32, activation = 'relu'))\n",
        "model.add(Dropout(0.4))\n",
        "model.add(Dense(16, activation = 'relu'))\n",
        "model.add(Dense(3, activation = 'softmax'))\n",
        "optimizer = Adam(lr=0.001)\n",
        "model.compile(optimizer, loss = 'categorical_crossentropy', metrics = ['accuracy'])\n",
        "\n",
        "model.summary()"
      ],
      "execution_count": 39,
      "outputs": [
        {
          "output_type": "stream",
          "name": "stdout",
          "text": [
            "Model: \"sequential\"\n",
            "_________________________________________________________________\n",
            " Layer (type)                Output Shape              Param #   \n",
            "=================================================================\n",
            " dense (Dense)               (None, 32)                160       \n",
            "                                                                 \n",
            " dense_1 (Dense)             (None, 64)                2112      \n",
            "                                                                 \n",
            " dense_2 (Dense)             (None, 128)               8320      \n",
            "                                                                 \n",
            " dense_3 (Dense)             (None, 64)                8256      \n",
            "                                                                 \n",
            " dense_4 (Dense)             (None, 32)                2080      \n",
            "                                                                 \n",
            " dropout (Dropout)           (None, 32)                0         \n",
            "                                                                 \n",
            " dense_5 (Dense)             (None, 16)                528       \n",
            "                                                                 \n",
            " dense_6 (Dense)             (None, 3)                 51        \n",
            "                                                                 \n",
            "=================================================================\n",
            "Total params: 21,507\n",
            "Trainable params: 21,507\n",
            "Non-trainable params: 0\n",
            "_________________________________________________________________\n"
          ]
        },
        {
          "output_type": "stream",
          "name": "stderr",
          "text": [
            "/usr/local/lib/python3.7/dist-packages/keras/optimizer_v2/adam.py:105: UserWarning: The `lr` argument is deprecated, use `learning_rate` instead.\n",
            "  super(Adam, self).__init__(name, **kwargs)\n"
          ]
        }
      ]
    },
    {
      "cell_type": "code",
      "metadata": {
        "id": "u1VD2PCQqna0"
      },
      "source": [
        "model.compile(loss='categorical_crossentropy', optimizer='adam', metrics=['accuracy'])"
      ],
      "execution_count": 40,
      "outputs": []
    },
    {
      "cell_type": "code",
      "metadata": {
        "colab": {
          "base_uri": "https://localhost:8080/"
        },
        "id": "wSPMnX2M9zs7",
        "outputId": "9d4a25ee-b1f8-40fa-e4f8-9fd91c8e8416"
      },
      "source": [
        "history = model.fit(xtrain,ytrain,epochs=250,batch_size=10, verbose=1, validation_data=(xtest, ytest))"
      ],
      "execution_count": 41,
      "outputs": [
        {
          "output_type": "stream",
          "name": "stdout",
          "text": [
            "Epoch 1/250\n",
            "11/11 [==============================] - 1s 35ms/step - loss: 1.0973 - accuracy: 0.2571 - val_loss: 1.0827 - val_accuracy: 0.3111\n",
            "Epoch 2/250\n",
            "11/11 [==============================] - 0s 7ms/step - loss: 1.0667 - accuracy: 0.5429 - val_loss: 1.0413 - val_accuracy: 0.5778\n",
            "Epoch 3/250\n",
            "11/11 [==============================] - 0s 7ms/step - loss: 1.0165 - accuracy: 0.6190 - val_loss: 0.9580 - val_accuracy: 0.6000\n",
            "Epoch 4/250\n",
            "11/11 [==============================] - 0s 8ms/step - loss: 0.9025 - accuracy: 0.6952 - val_loss: 0.8181 - val_accuracy: 0.6000\n",
            "Epoch 5/250\n",
            "11/11 [==============================] - 0s 6ms/step - loss: 0.7483 - accuracy: 0.6667 - val_loss: 0.6929 - val_accuracy: 0.6000\n",
            "Epoch 6/250\n",
            "11/11 [==============================] - 0s 7ms/step - loss: 0.6355 - accuracy: 0.7238 - val_loss: 0.5936 - val_accuracy: 0.6000\n",
            "Epoch 7/250\n",
            "11/11 [==============================] - 0s 6ms/step - loss: 0.5647 - accuracy: 0.7048 - val_loss: 0.5341 - val_accuracy: 0.6444\n",
            "Epoch 8/250\n",
            "11/11 [==============================] - 0s 7ms/step - loss: 0.5194 - accuracy: 0.7524 - val_loss: 0.4902 - val_accuracy: 0.6444\n",
            "Epoch 9/250\n",
            "11/11 [==============================] - 0s 5ms/step - loss: 0.4495 - accuracy: 0.7810 - val_loss: 0.4776 - val_accuracy: 0.6222\n",
            "Epoch 10/250\n",
            "11/11 [==============================] - 0s 5ms/step - loss: 0.4428 - accuracy: 0.7905 - val_loss: 0.4198 - val_accuracy: 0.8667\n",
            "Epoch 11/250\n",
            "11/11 [==============================] - 0s 7ms/step - loss: 0.4432 - accuracy: 0.7619 - val_loss: 0.4069 - val_accuracy: 0.7778\n",
            "Epoch 12/250\n",
            "11/11 [==============================] - 0s 7ms/step - loss: 0.3961 - accuracy: 0.8381 - val_loss: 0.3770 - val_accuracy: 0.9333\n",
            "Epoch 13/250\n",
            "11/11 [==============================] - 0s 7ms/step - loss: 0.4157 - accuracy: 0.7905 - val_loss: 0.3550 - val_accuracy: 0.9556\n",
            "Epoch 14/250\n",
            "11/11 [==============================] - 0s 7ms/step - loss: 0.3663 - accuracy: 0.8476 - val_loss: 0.3471 - val_accuracy: 0.8889\n",
            "Epoch 15/250\n",
            "11/11 [==============================] - 0s 7ms/step - loss: 0.3329 - accuracy: 0.8571 - val_loss: 0.3183 - val_accuracy: 0.9556\n",
            "Epoch 16/250\n",
            "11/11 [==============================] - 0s 8ms/step - loss: 0.2840 - accuracy: 0.9048 - val_loss: 0.2926 - val_accuracy: 0.8889\n",
            "Epoch 17/250\n",
            "11/11 [==============================] - 0s 7ms/step - loss: 0.3307 - accuracy: 0.8571 - val_loss: 0.2699 - val_accuracy: 0.9111\n",
            "Epoch 18/250\n",
            "11/11 [==============================] - 0s 7ms/step - loss: 0.2744 - accuracy: 0.9048 - val_loss: 0.2366 - val_accuracy: 0.9556\n",
            "Epoch 19/250\n",
            "11/11 [==============================] - 0s 7ms/step - loss: 0.2894 - accuracy: 0.8667 - val_loss: 0.3084 - val_accuracy: 0.8444\n",
            "Epoch 20/250\n",
            "11/11 [==============================] - 0s 7ms/step - loss: 0.2575 - accuracy: 0.8857 - val_loss: 0.2073 - val_accuracy: 0.9556\n",
            "Epoch 21/250\n",
            "11/11 [==============================] - 0s 7ms/step - loss: 0.2866 - accuracy: 0.8762 - val_loss: 0.1865 - val_accuracy: 0.9556\n",
            "Epoch 22/250\n",
            "11/11 [==============================] - 0s 8ms/step - loss: 0.3335 - accuracy: 0.8381 - val_loss: 0.1783 - val_accuracy: 1.0000\n",
            "Epoch 23/250\n",
            "11/11 [==============================] - 0s 8ms/step - loss: 0.2253 - accuracy: 0.9048 - val_loss: 0.2284 - val_accuracy: 0.9111\n",
            "Epoch 24/250\n",
            "11/11 [==============================] - 0s 8ms/step - loss: 0.3129 - accuracy: 0.8857 - val_loss: 0.1713 - val_accuracy: 0.9556\n",
            "Epoch 25/250\n",
            "11/11 [==============================] - 0s 8ms/step - loss: 0.2023 - accuracy: 0.9238 - val_loss: 0.1682 - val_accuracy: 1.0000\n",
            "Epoch 26/250\n",
            "11/11 [==============================] - 0s 7ms/step - loss: 0.2092 - accuracy: 0.9333 - val_loss: 0.1446 - val_accuracy: 0.9556\n",
            "Epoch 27/250\n",
            "11/11 [==============================] - 0s 9ms/step - loss: 0.2399 - accuracy: 0.8667 - val_loss: 0.1394 - val_accuracy: 0.9556\n",
            "Epoch 28/250\n",
            "11/11 [==============================] - 0s 7ms/step - loss: 0.2027 - accuracy: 0.9238 - val_loss: 0.1324 - val_accuracy: 0.9556\n",
            "Epoch 29/250\n",
            "11/11 [==============================] - 0s 7ms/step - loss: 0.2101 - accuracy: 0.9048 - val_loss: 0.1924 - val_accuracy: 0.9333\n",
            "Epoch 30/250\n",
            "11/11 [==============================] - 0s 5ms/step - loss: 0.2105 - accuracy: 0.9333 - val_loss: 0.1336 - val_accuracy: 1.0000\n",
            "Epoch 31/250\n",
            "11/11 [==============================] - 0s 6ms/step - loss: 0.1906 - accuracy: 0.9143 - val_loss: 0.2240 - val_accuracy: 0.8889\n",
            "Epoch 32/250\n",
            "11/11 [==============================] - 0s 6ms/step - loss: 0.2022 - accuracy: 0.9238 - val_loss: 0.1442 - val_accuracy: 0.9778\n",
            "Epoch 33/250\n",
            "11/11 [==============================] - 0s 7ms/step - loss: 0.1546 - accuracy: 0.9333 - val_loss: 0.1577 - val_accuracy: 0.9556\n",
            "Epoch 34/250\n",
            "11/11 [==============================] - 0s 5ms/step - loss: 0.1750 - accuracy: 0.9333 - val_loss: 0.1295 - val_accuracy: 1.0000\n",
            "Epoch 35/250\n",
            "11/11 [==============================] - 0s 6ms/step - loss: 0.1763 - accuracy: 0.9429 - val_loss: 0.1613 - val_accuracy: 0.9556\n",
            "Epoch 36/250\n",
            "11/11 [==============================] - 0s 5ms/step - loss: 0.2511 - accuracy: 0.9048 - val_loss: 0.1234 - val_accuracy: 0.9556\n",
            "Epoch 37/250\n",
            "11/11 [==============================] - 0s 7ms/step - loss: 0.2131 - accuracy: 0.9333 - val_loss: 0.2530 - val_accuracy: 0.8444\n",
            "Epoch 38/250\n",
            "11/11 [==============================] - 0s 6ms/step - loss: 0.2252 - accuracy: 0.8952 - val_loss: 0.1239 - val_accuracy: 1.0000\n",
            "Epoch 39/250\n",
            "11/11 [==============================] - 0s 5ms/step - loss: 0.2274 - accuracy: 0.8952 - val_loss: 0.1617 - val_accuracy: 0.9556\n",
            "Epoch 40/250\n",
            "11/11 [==============================] - 0s 6ms/step - loss: 0.1892 - accuracy: 0.9333 - val_loss: 0.1303 - val_accuracy: 0.9778\n",
            "Epoch 41/250\n",
            "11/11 [==============================] - 0s 5ms/step - loss: 0.1783 - accuracy: 0.9238 - val_loss: 0.1242 - val_accuracy: 0.9778\n",
            "Epoch 42/250\n",
            "11/11 [==============================] - 0s 5ms/step - loss: 0.1806 - accuracy: 0.9333 - val_loss: 0.1198 - val_accuracy: 0.9778\n",
            "Epoch 43/250\n",
            "11/11 [==============================] - 0s 6ms/step - loss: 0.1466 - accuracy: 0.9429 - val_loss: 0.1469 - val_accuracy: 0.9556\n",
            "Epoch 44/250\n",
            "11/11 [==============================] - 0s 7ms/step - loss: 0.1369 - accuracy: 0.9429 - val_loss: 0.2523 - val_accuracy: 0.8667\n",
            "Epoch 45/250\n",
            "11/11 [==============================] - 0s 7ms/step - loss: 0.2499 - accuracy: 0.8667 - val_loss: 0.2312 - val_accuracy: 0.9111\n",
            "Epoch 46/250\n",
            "11/11 [==============================] - 0s 7ms/step - loss: 0.1827 - accuracy: 0.9238 - val_loss: 0.1490 - val_accuracy: 0.9778\n",
            "Epoch 47/250\n",
            "11/11 [==============================] - 0s 8ms/step - loss: 0.1536 - accuracy: 0.9619 - val_loss: 0.1300 - val_accuracy: 0.9556\n",
            "Epoch 48/250\n",
            "11/11 [==============================] - 0s 7ms/step - loss: 0.1615 - accuracy: 0.9333 - val_loss: 0.1060 - val_accuracy: 0.9778\n",
            "Epoch 49/250\n",
            "11/11 [==============================] - 0s 9ms/step - loss: 0.2237 - accuracy: 0.8762 - val_loss: 0.1064 - val_accuracy: 0.9778\n",
            "Epoch 50/250\n",
            "11/11 [==============================] - 0s 8ms/step - loss: 0.1887 - accuracy: 0.8952 - val_loss: 0.1022 - val_accuracy: 0.9556\n",
            "Epoch 51/250\n",
            "11/11 [==============================] - 0s 10ms/step - loss: 0.1715 - accuracy: 0.9429 - val_loss: 0.0938 - val_accuracy: 0.9778\n",
            "Epoch 52/250\n",
            "11/11 [==============================] - 0s 9ms/step - loss: 0.1394 - accuracy: 0.9429 - val_loss: 0.1261 - val_accuracy: 0.9556\n",
            "Epoch 53/250\n",
            "11/11 [==============================] - 0s 7ms/step - loss: 0.1951 - accuracy: 0.9143 - val_loss: 0.3536 - val_accuracy: 0.8000\n",
            "Epoch 54/250\n",
            "11/11 [==============================] - 0s 7ms/step - loss: 0.2136 - accuracy: 0.8952 - val_loss: 0.1330 - val_accuracy: 0.9556\n",
            "Epoch 55/250\n",
            "11/11 [==============================] - 0s 7ms/step - loss: 0.1766 - accuracy: 0.9333 - val_loss: 0.0954 - val_accuracy: 1.0000\n",
            "Epoch 56/250\n",
            "11/11 [==============================] - 0s 7ms/step - loss: 0.2193 - accuracy: 0.9048 - val_loss: 0.3458 - val_accuracy: 0.7778\n",
            "Epoch 57/250\n",
            "11/11 [==============================] - 0s 7ms/step - loss: 0.2162 - accuracy: 0.8857 - val_loss: 0.2611 - val_accuracy: 0.9111\n",
            "Epoch 58/250\n",
            "11/11 [==============================] - 0s 8ms/step - loss: 0.2338 - accuracy: 0.9048 - val_loss: 0.2230 - val_accuracy: 0.8889\n",
            "Epoch 59/250\n",
            "11/11 [==============================] - 0s 13ms/step - loss: 0.1333 - accuracy: 0.9810 - val_loss: 0.1660 - val_accuracy: 0.9333\n",
            "Epoch 60/250\n",
            "11/11 [==============================] - 0s 17ms/step - loss: 0.1849 - accuracy: 0.9238 - val_loss: 0.1139 - val_accuracy: 0.9778\n",
            "Epoch 61/250\n",
            "11/11 [==============================] - 0s 12ms/step - loss: 0.1401 - accuracy: 0.9429 - val_loss: 0.1145 - val_accuracy: 0.9556\n",
            "Epoch 62/250\n",
            "11/11 [==============================] - 0s 11ms/step - loss: 0.1194 - accuracy: 0.9714 - val_loss: 0.0914 - val_accuracy: 0.9778\n",
            "Epoch 63/250\n",
            "11/11 [==============================] - 0s 17ms/step - loss: 0.1367 - accuracy: 0.9238 - val_loss: 0.1030 - val_accuracy: 0.9778\n",
            "Epoch 64/250\n",
            "11/11 [==============================] - 0s 13ms/step - loss: 0.1382 - accuracy: 0.9524 - val_loss: 0.1064 - val_accuracy: 0.9556\n",
            "Epoch 65/250\n",
            "11/11 [==============================] - 0s 17ms/step - loss: 0.1110 - accuracy: 0.9524 - val_loss: 0.1121 - val_accuracy: 0.9556\n",
            "Epoch 66/250\n",
            "11/11 [==============================] - 0s 19ms/step - loss: 0.1094 - accuracy: 0.9714 - val_loss: 0.1000 - val_accuracy: 0.9556\n",
            "Epoch 67/250\n",
            "11/11 [==============================] - 0s 19ms/step - loss: 0.1321 - accuracy: 0.9714 - val_loss: 0.0796 - val_accuracy: 0.9556\n",
            "Epoch 68/250\n",
            "11/11 [==============================] - 0s 14ms/step - loss: 0.1678 - accuracy: 0.9429 - val_loss: 0.1611 - val_accuracy: 0.9556\n",
            "Epoch 69/250\n",
            "11/11 [==============================] - 0s 17ms/step - loss: 0.1318 - accuracy: 0.9619 - val_loss: 0.0948 - val_accuracy: 0.9778\n",
            "Epoch 70/250\n",
            "11/11 [==============================] - 0s 18ms/step - loss: 0.1318 - accuracy: 0.9429 - val_loss: 0.1334 - val_accuracy: 0.9556\n",
            "Epoch 71/250\n",
            "11/11 [==============================] - 0s 22ms/step - loss: 0.1149 - accuracy: 0.9524 - val_loss: 0.0882 - val_accuracy: 1.0000\n",
            "Epoch 72/250\n",
            "11/11 [==============================] - 0s 28ms/step - loss: 0.1421 - accuracy: 0.9429 - val_loss: 0.1439 - val_accuracy: 0.9556\n",
            "Epoch 73/250\n",
            "11/11 [==============================] - 0s 31ms/step - loss: 0.1423 - accuracy: 0.9524 - val_loss: 0.0857 - val_accuracy: 0.9556\n",
            "Epoch 74/250\n",
            "11/11 [==============================] - 0s 30ms/step - loss: 0.0894 - accuracy: 0.9619 - val_loss: 0.1546 - val_accuracy: 0.9556\n",
            "Epoch 75/250\n",
            "11/11 [==============================] - 0s 13ms/step - loss: 0.1437 - accuracy: 0.9429 - val_loss: 0.0718 - val_accuracy: 0.9778\n",
            "Epoch 76/250\n",
            "11/11 [==============================] - 0s 20ms/step - loss: 0.1267 - accuracy: 0.9333 - val_loss: 0.0714 - val_accuracy: 0.9778\n",
            "Epoch 77/250\n",
            "11/11 [==============================] - 0s 14ms/step - loss: 0.0938 - accuracy: 0.9810 - val_loss: 0.0777 - val_accuracy: 0.9556\n",
            "Epoch 78/250\n",
            "11/11 [==============================] - 0s 15ms/step - loss: 0.1040 - accuracy: 0.9524 - val_loss: 0.0644 - val_accuracy: 0.9778\n",
            "Epoch 79/250\n",
            "11/11 [==============================] - 0s 18ms/step - loss: 0.1192 - accuracy: 0.9524 - val_loss: 0.0708 - val_accuracy: 0.9778\n",
            "Epoch 80/250\n",
            "11/11 [==============================] - 0s 20ms/step - loss: 0.1356 - accuracy: 0.9429 - val_loss: 0.0653 - val_accuracy: 0.9778\n",
            "Epoch 81/250\n",
            "11/11 [==============================] - 0s 17ms/step - loss: 0.1711 - accuracy: 0.9524 - val_loss: 0.0730 - val_accuracy: 0.9778\n",
            "Epoch 82/250\n",
            "11/11 [==============================] - 0s 10ms/step - loss: 0.1834 - accuracy: 0.9333 - val_loss: 0.1021 - val_accuracy: 0.9556\n",
            "Epoch 83/250\n",
            "11/11 [==============================] - 0s 10ms/step - loss: 0.2971 - accuracy: 0.9143 - val_loss: 0.0880 - val_accuracy: 0.9778\n",
            "Epoch 84/250\n",
            "11/11 [==============================] - 0s 13ms/step - loss: 0.1483 - accuracy: 0.9524 - val_loss: 0.0928 - val_accuracy: 0.9778\n",
            "Epoch 85/250\n",
            "11/11 [==============================] - 0s 16ms/step - loss: 0.1377 - accuracy: 0.9429 - val_loss: 0.1074 - val_accuracy: 0.9778\n",
            "Epoch 86/250\n",
            "11/11 [==============================] - 0s 12ms/step - loss: 0.1344 - accuracy: 0.9524 - val_loss: 0.1573 - val_accuracy: 0.9556\n",
            "Epoch 87/250\n",
            "11/11 [==============================] - 0s 9ms/step - loss: 0.2051 - accuracy: 0.9143 - val_loss: 0.5020 - val_accuracy: 0.7556\n",
            "Epoch 88/250\n",
            "11/11 [==============================] - 0s 15ms/step - loss: 0.3822 - accuracy: 0.8190 - val_loss: 0.1586 - val_accuracy: 0.9778\n",
            "Epoch 89/250\n",
            "11/11 [==============================] - 0s 14ms/step - loss: 0.1702 - accuracy: 0.9333 - val_loss: 0.1084 - val_accuracy: 0.9778\n",
            "Epoch 90/250\n",
            "11/11 [==============================] - 0s 16ms/step - loss: 0.1524 - accuracy: 0.9333 - val_loss: 0.0875 - val_accuracy: 0.9778\n",
            "Epoch 91/250\n",
            "11/11 [==============================] - 0s 17ms/step - loss: 0.1503 - accuracy: 0.9524 - val_loss: 0.0894 - val_accuracy: 1.0000\n",
            "Epoch 92/250\n",
            "11/11 [==============================] - 0s 22ms/step - loss: 0.1410 - accuracy: 0.9429 - val_loss: 0.0982 - val_accuracy: 0.9556\n",
            "Epoch 93/250\n",
            "11/11 [==============================] - 0s 20ms/step - loss: 0.1065 - accuracy: 0.9810 - val_loss: 0.0739 - val_accuracy: 0.9778\n",
            "Epoch 94/250\n",
            "11/11 [==============================] - 0s 28ms/step - loss: 0.1180 - accuracy: 0.9524 - val_loss: 0.0571 - val_accuracy: 1.0000\n",
            "Epoch 95/250\n",
            "11/11 [==============================] - 0s 22ms/step - loss: 0.1657 - accuracy: 0.9238 - val_loss: 0.0937 - val_accuracy: 0.9556\n",
            "Epoch 96/250\n",
            "11/11 [==============================] - 0s 16ms/step - loss: 0.1324 - accuracy: 0.9619 - val_loss: 0.0831 - val_accuracy: 0.9778\n",
            "Epoch 97/250\n",
            "11/11 [==============================] - 0s 17ms/step - loss: 0.1563 - accuracy: 0.9429 - val_loss: 0.0814 - val_accuracy: 0.9778\n",
            "Epoch 98/250\n",
            "11/11 [==============================] - 0s 16ms/step - loss: 0.1651 - accuracy: 0.9429 - val_loss: 0.0641 - val_accuracy: 1.0000\n",
            "Epoch 99/250\n",
            "11/11 [==============================] - 0s 17ms/step - loss: 0.1140 - accuracy: 0.9619 - val_loss: 0.0603 - val_accuracy: 0.9778\n",
            "Epoch 100/250\n",
            "11/11 [==============================] - 0s 19ms/step - loss: 0.1290 - accuracy: 0.9524 - val_loss: 0.0695 - val_accuracy: 0.9778\n",
            "Epoch 101/250\n",
            "11/11 [==============================] - 0s 13ms/step - loss: 0.1160 - accuracy: 0.9619 - val_loss: 0.0706 - val_accuracy: 0.9778\n",
            "Epoch 102/250\n",
            "11/11 [==============================] - 0s 26ms/step - loss: 0.1078 - accuracy: 0.9714 - val_loss: 0.0864 - val_accuracy: 0.9556\n",
            "Epoch 103/250\n",
            "11/11 [==============================] - 0s 15ms/step - loss: 0.0965 - accuracy: 0.9619 - val_loss: 0.1059 - val_accuracy: 0.9556\n",
            "Epoch 104/250\n",
            "11/11 [==============================] - 0s 17ms/step - loss: 0.1353 - accuracy: 0.9429 - val_loss: 0.1287 - val_accuracy: 0.9556\n",
            "Epoch 105/250\n",
            "11/11 [==============================] - 0s 14ms/step - loss: 0.0989 - accuracy: 0.9524 - val_loss: 0.0564 - val_accuracy: 0.9778\n",
            "Epoch 106/250\n",
            "11/11 [==============================] - 0s 21ms/step - loss: 0.1140 - accuracy: 0.9619 - val_loss: 0.1173 - val_accuracy: 0.9556\n",
            "Epoch 107/250\n",
            "11/11 [==============================] - 0s 18ms/step - loss: 0.1307 - accuracy: 0.9429 - val_loss: 0.1181 - val_accuracy: 0.9333\n",
            "Epoch 108/250\n",
            "11/11 [==============================] - 0s 16ms/step - loss: 0.1897 - accuracy: 0.9333 - val_loss: 0.1174 - val_accuracy: 0.9556\n",
            "Epoch 109/250\n",
            "11/11 [==============================] - 0s 17ms/step - loss: 0.1615 - accuracy: 0.9429 - val_loss: 0.4413 - val_accuracy: 0.7556\n",
            "Epoch 110/250\n",
            "11/11 [==============================] - 0s 16ms/step - loss: 0.2465 - accuracy: 0.8952 - val_loss: 0.0794 - val_accuracy: 1.0000\n",
            "Epoch 111/250\n",
            "11/11 [==============================] - 0s 25ms/step - loss: 0.1404 - accuracy: 0.9238 - val_loss: 0.0868 - val_accuracy: 1.0000\n",
            "Epoch 112/250\n",
            "11/11 [==============================] - 0s 18ms/step - loss: 0.1454 - accuracy: 0.9429 - val_loss: 0.1114 - val_accuracy: 0.9778\n",
            "Epoch 113/250\n",
            "11/11 [==============================] - 0s 16ms/step - loss: 0.1486 - accuracy: 0.9429 - val_loss: 0.0876 - val_accuracy: 0.9778\n",
            "Epoch 114/250\n",
            "11/11 [==============================] - 0s 16ms/step - loss: 0.1180 - accuracy: 0.9619 - val_loss: 0.0830 - val_accuracy: 0.9778\n",
            "Epoch 115/250\n",
            "11/11 [==============================] - 0s 12ms/step - loss: 0.1275 - accuracy: 0.9524 - val_loss: 0.0811 - val_accuracy: 0.9778\n",
            "Epoch 116/250\n",
            "11/11 [==============================] - 0s 15ms/step - loss: 0.1309 - accuracy: 0.9524 - val_loss: 0.0707 - val_accuracy: 0.9778\n",
            "Epoch 117/250\n",
            "11/11 [==============================] - 0s 14ms/step - loss: 0.1096 - accuracy: 0.9619 - val_loss: 0.0637 - val_accuracy: 0.9778\n",
            "Epoch 118/250\n",
            "11/11 [==============================] - 0s 24ms/step - loss: 0.1256 - accuracy: 0.9524 - val_loss: 0.0633 - val_accuracy: 0.9778\n",
            "Epoch 119/250\n",
            "11/11 [==============================] - 0s 23ms/step - loss: 0.1400 - accuracy: 0.9429 - val_loss: 0.0660 - val_accuracy: 0.9778\n",
            "Epoch 120/250\n",
            "11/11 [==============================] - 0s 15ms/step - loss: 0.1223 - accuracy: 0.9429 - val_loss: 0.0584 - val_accuracy: 1.0000\n",
            "Epoch 121/250\n",
            "11/11 [==============================] - 0s 26ms/step - loss: 0.1153 - accuracy: 0.9619 - val_loss: 0.1088 - val_accuracy: 0.9556\n",
            "Epoch 122/250\n",
            "11/11 [==============================] - 0s 14ms/step - loss: 0.1717 - accuracy: 0.9619 - val_loss: 0.1349 - val_accuracy: 0.9111\n",
            "Epoch 123/250\n",
            "11/11 [==============================] - 0s 14ms/step - loss: 0.1173 - accuracy: 0.9619 - val_loss: 0.1213 - val_accuracy: 0.9556\n",
            "Epoch 124/250\n",
            "11/11 [==============================] - 0s 17ms/step - loss: 0.1396 - accuracy: 0.9524 - val_loss: 0.0775 - val_accuracy: 0.9778\n",
            "Epoch 125/250\n",
            "11/11 [==============================] - 0s 20ms/step - loss: 0.1221 - accuracy: 0.9524 - val_loss: 0.0675 - val_accuracy: 0.9778\n",
            "Epoch 126/250\n",
            "11/11 [==============================] - 0s 16ms/step - loss: 0.1341 - accuracy: 0.9524 - val_loss: 0.1138 - val_accuracy: 0.9556\n",
            "Epoch 127/250\n",
            "11/11 [==============================] - 0s 13ms/step - loss: 0.1334 - accuracy: 0.9429 - val_loss: 0.1229 - val_accuracy: 0.9111\n",
            "Epoch 128/250\n",
            "11/11 [==============================] - 0s 21ms/step - loss: 0.1938 - accuracy: 0.9143 - val_loss: 0.0970 - val_accuracy: 0.9778\n",
            "Epoch 129/250\n",
            "11/11 [==============================] - 0s 25ms/step - loss: 0.1455 - accuracy: 0.9429 - val_loss: 0.1192 - val_accuracy: 0.9556\n",
            "Epoch 130/250\n",
            "11/11 [==============================] - 0s 19ms/step - loss: 0.1030 - accuracy: 0.9619 - val_loss: 0.1090 - val_accuracy: 0.9778\n",
            "Epoch 131/250\n",
            "11/11 [==============================] - 0s 19ms/step - loss: 0.1124 - accuracy: 0.9714 - val_loss: 0.0790 - val_accuracy: 0.9778\n",
            "Epoch 132/250\n",
            "11/11 [==============================] - 0s 18ms/step - loss: 0.1330 - accuracy: 0.9429 - val_loss: 0.0692 - val_accuracy: 1.0000\n",
            "Epoch 133/250\n",
            "11/11 [==============================] - 0s 19ms/step - loss: 0.1046 - accuracy: 0.9619 - val_loss: 0.0622 - val_accuracy: 1.0000\n",
            "Epoch 134/250\n",
            "11/11 [==============================] - 0s 19ms/step - loss: 0.0923 - accuracy: 0.9714 - val_loss: 0.0847 - val_accuracy: 0.9556\n",
            "Epoch 135/250\n",
            "11/11 [==============================] - 0s 24ms/step - loss: 0.1082 - accuracy: 0.9714 - val_loss: 0.0696 - val_accuracy: 0.9778\n",
            "Epoch 136/250\n",
            "11/11 [==============================] - 0s 30ms/step - loss: 0.1378 - accuracy: 0.9429 - val_loss: 0.0916 - val_accuracy: 0.9556\n",
            "Epoch 137/250\n",
            "11/11 [==============================] - 0s 34ms/step - loss: 0.1893 - accuracy: 0.9429 - val_loss: 0.1316 - val_accuracy: 0.9111\n",
            "Epoch 138/250\n",
            "11/11 [==============================] - 0s 30ms/step - loss: 0.1755 - accuracy: 0.9429 - val_loss: 0.0697 - val_accuracy: 1.0000\n",
            "Epoch 139/250\n",
            "11/11 [==============================] - 0s 19ms/step - loss: 0.1414 - accuracy: 0.9429 - val_loss: 0.0674 - val_accuracy: 1.0000\n",
            "Epoch 140/250\n",
            "11/11 [==============================] - 0s 12ms/step - loss: 0.1024 - accuracy: 0.9619 - val_loss: 0.0697 - val_accuracy: 1.0000\n",
            "Epoch 141/250\n",
            "11/11 [==============================] - 0s 12ms/step - loss: 0.1111 - accuracy: 0.9619 - val_loss: 0.0672 - val_accuracy: 0.9778\n",
            "Epoch 142/250\n",
            "11/11 [==============================] - 0s 12ms/step - loss: 0.0880 - accuracy: 0.9619 - val_loss: 0.1118 - val_accuracy: 0.9556\n",
            "Epoch 143/250\n",
            "11/11 [==============================] - 0s 12ms/step - loss: 0.1024 - accuracy: 0.9714 - val_loss: 0.0540 - val_accuracy: 0.9778\n",
            "Epoch 144/250\n",
            "11/11 [==============================] - 0s 13ms/step - loss: 0.1133 - accuracy: 0.9714 - val_loss: 0.1031 - val_accuracy: 0.9556\n",
            "Epoch 145/250\n",
            "11/11 [==============================] - 0s 15ms/step - loss: 0.0931 - accuracy: 0.9714 - val_loss: 0.0614 - val_accuracy: 0.9778\n",
            "Epoch 146/250\n",
            "11/11 [==============================] - 0s 13ms/step - loss: 0.1659 - accuracy: 0.9524 - val_loss: 0.0716 - val_accuracy: 0.9778\n",
            "Epoch 147/250\n",
            "11/11 [==============================] - 0s 14ms/step - loss: 0.1699 - accuracy: 0.9333 - val_loss: 0.2013 - val_accuracy: 0.8667\n",
            "Epoch 148/250\n",
            "11/11 [==============================] - 0s 12ms/step - loss: 0.1960 - accuracy: 0.9143 - val_loss: 0.1125 - val_accuracy: 0.9556\n",
            "Epoch 149/250\n",
            "11/11 [==============================] - 0s 9ms/step - loss: 0.1804 - accuracy: 0.9238 - val_loss: 0.1144 - val_accuracy: 0.9778\n",
            "Epoch 150/250\n",
            "11/11 [==============================] - 0s 9ms/step - loss: 0.1752 - accuracy: 0.9238 - val_loss: 0.1889 - val_accuracy: 0.9111\n",
            "Epoch 151/250\n",
            "11/11 [==============================] - 0s 15ms/step - loss: 0.1530 - accuracy: 0.9143 - val_loss: 0.1500 - val_accuracy: 0.9333\n",
            "Epoch 152/250\n",
            "11/11 [==============================] - 0s 9ms/step - loss: 0.1546 - accuracy: 0.9238 - val_loss: 0.0848 - val_accuracy: 0.9778\n",
            "Epoch 153/250\n",
            "11/11 [==============================] - 0s 9ms/step - loss: 0.1036 - accuracy: 0.9619 - val_loss: 0.0809 - val_accuracy: 0.9778\n",
            "Epoch 154/250\n",
            "11/11 [==============================] - 0s 9ms/step - loss: 0.1049 - accuracy: 0.9619 - val_loss: 0.0888 - val_accuracy: 0.9778\n",
            "Epoch 155/250\n",
            "11/11 [==============================] - 0s 9ms/step - loss: 0.1048 - accuracy: 0.9714 - val_loss: 0.0654 - val_accuracy: 0.9778\n",
            "Epoch 156/250\n",
            "11/11 [==============================] - 0s 9ms/step - loss: 0.1123 - accuracy: 0.9619 - val_loss: 0.0771 - val_accuracy: 0.9778\n",
            "Epoch 157/250\n",
            "11/11 [==============================] - 0s 12ms/step - loss: 0.1076 - accuracy: 0.9714 - val_loss: 0.1284 - val_accuracy: 0.9556\n",
            "Epoch 158/250\n",
            "11/11 [==============================] - 0s 11ms/step - loss: 0.1721 - accuracy: 0.9333 - val_loss: 0.0612 - val_accuracy: 0.9778\n",
            "Epoch 159/250\n",
            "11/11 [==============================] - 0s 12ms/step - loss: 0.1029 - accuracy: 0.9619 - val_loss: 0.0568 - val_accuracy: 0.9778\n",
            "Epoch 160/250\n",
            "11/11 [==============================] - 0s 12ms/step - loss: 0.1050 - accuracy: 0.9619 - val_loss: 0.0697 - val_accuracy: 0.9778\n",
            "Epoch 161/250\n",
            "11/11 [==============================] - 0s 11ms/step - loss: 0.1368 - accuracy: 0.9429 - val_loss: 0.0636 - val_accuracy: 1.0000\n",
            "Epoch 162/250\n",
            "11/11 [==============================] - 0s 12ms/step - loss: 0.1104 - accuracy: 0.9619 - val_loss: 0.0724 - val_accuracy: 0.9778\n",
            "Epoch 163/250\n",
            "11/11 [==============================] - 0s 13ms/step - loss: 0.1279 - accuracy: 0.9619 - val_loss: 0.0663 - val_accuracy: 0.9778\n",
            "Epoch 164/250\n",
            "11/11 [==============================] - 0s 10ms/step - loss: 0.1093 - accuracy: 0.9429 - val_loss: 0.0814 - val_accuracy: 0.9778\n",
            "Epoch 165/250\n",
            "11/11 [==============================] - 0s 9ms/step - loss: 0.1343 - accuracy: 0.9333 - val_loss: 0.0868 - val_accuracy: 0.9778\n",
            "Epoch 166/250\n",
            "11/11 [==============================] - 0s 10ms/step - loss: 0.1144 - accuracy: 0.9524 - val_loss: 0.1051 - val_accuracy: 0.9556\n",
            "Epoch 167/250\n",
            "11/11 [==============================] - 0s 9ms/step - loss: 0.1341 - accuracy: 0.9619 - val_loss: 0.0845 - val_accuracy: 0.9778\n",
            "Epoch 168/250\n",
            "11/11 [==============================] - 0s 9ms/step - loss: 0.1128 - accuracy: 0.9619 - val_loss: 0.1243 - val_accuracy: 0.9556\n",
            "Epoch 169/250\n",
            "11/11 [==============================] - 0s 9ms/step - loss: 0.1172 - accuracy: 0.9619 - val_loss: 0.0801 - val_accuracy: 0.9778\n",
            "Epoch 170/250\n",
            "11/11 [==============================] - 0s 9ms/step - loss: 0.1123 - accuracy: 0.9619 - val_loss: 0.0692 - val_accuracy: 0.9778\n",
            "Epoch 171/250\n",
            "11/11 [==============================] - 0s 9ms/step - loss: 0.1128 - accuracy: 0.9524 - val_loss: 0.0921 - val_accuracy: 0.9778\n",
            "Epoch 172/250\n",
            "11/11 [==============================] - 0s 9ms/step - loss: 0.1345 - accuracy: 0.9524 - val_loss: 0.1266 - val_accuracy: 0.9778\n",
            "Epoch 173/250\n",
            "11/11 [==============================] - 0s 11ms/step - loss: 0.1162 - accuracy: 0.9524 - val_loss: 0.0520 - val_accuracy: 1.0000\n",
            "Epoch 174/250\n",
            "11/11 [==============================] - 0s 9ms/step - loss: 0.1341 - accuracy: 0.9429 - val_loss: 0.0632 - val_accuracy: 0.9778\n",
            "Epoch 175/250\n",
            "11/11 [==============================] - 0s 9ms/step - loss: 0.1156 - accuracy: 0.9429 - val_loss: 0.1253 - val_accuracy: 0.9556\n",
            "Epoch 176/250\n",
            "11/11 [==============================] - 0s 9ms/step - loss: 0.1256 - accuracy: 0.9714 - val_loss: 0.0867 - val_accuracy: 0.9778\n",
            "Epoch 177/250\n",
            "11/11 [==============================] - 0s 8ms/step - loss: 0.1003 - accuracy: 0.9619 - val_loss: 0.0737 - val_accuracy: 1.0000\n",
            "Epoch 178/250\n",
            "11/11 [==============================] - 0s 9ms/step - loss: 0.1205 - accuracy: 0.9619 - val_loss: 0.1209 - val_accuracy: 0.9556\n",
            "Epoch 179/250\n",
            "11/11 [==============================] - 0s 11ms/step - loss: 0.1911 - accuracy: 0.9238 - val_loss: 0.1143 - val_accuracy: 0.9333\n",
            "Epoch 180/250\n",
            "11/11 [==============================] - 0s 9ms/step - loss: 0.1262 - accuracy: 0.9619 - val_loss: 0.0619 - val_accuracy: 1.0000\n",
            "Epoch 181/250\n",
            "11/11 [==============================] - 0s 8ms/step - loss: 0.1141 - accuracy: 0.9619 - val_loss: 0.0680 - val_accuracy: 0.9778\n",
            "Epoch 182/250\n",
            "11/11 [==============================] - 0s 7ms/step - loss: 0.0925 - accuracy: 0.9619 - val_loss: 0.1440 - val_accuracy: 0.9778\n",
            "Epoch 183/250\n",
            "11/11 [==============================] - 0s 7ms/step - loss: 0.1231 - accuracy: 0.9524 - val_loss: 0.0698 - val_accuracy: 0.9778\n",
            "Epoch 184/250\n",
            "11/11 [==============================] - 0s 7ms/step - loss: 0.1104 - accuracy: 0.9619 - val_loss: 0.0539 - val_accuracy: 1.0000\n",
            "Epoch 185/250\n",
            "11/11 [==============================] - 0s 7ms/step - loss: 0.1089 - accuracy: 0.9524 - val_loss: 0.1648 - val_accuracy: 0.9556\n",
            "Epoch 186/250\n",
            "11/11 [==============================] - 0s 7ms/step - loss: 0.0741 - accuracy: 0.9714 - val_loss: 0.0510 - val_accuracy: 0.9778\n",
            "Epoch 187/250\n",
            "11/11 [==============================] - 0s 6ms/step - loss: 0.0795 - accuracy: 0.9810 - val_loss: 0.0492 - val_accuracy: 0.9778\n",
            "Epoch 188/250\n",
            "11/11 [==============================] - 0s 7ms/step - loss: 0.1001 - accuracy: 0.9619 - val_loss: 0.0492 - val_accuracy: 1.0000\n",
            "Epoch 189/250\n",
            "11/11 [==============================] - 0s 8ms/step - loss: 0.1231 - accuracy: 0.9524 - val_loss: 0.0504 - val_accuracy: 0.9778\n",
            "Epoch 190/250\n",
            "11/11 [==============================] - 0s 6ms/step - loss: 0.1551 - accuracy: 0.9238 - val_loss: 0.1448 - val_accuracy: 0.9111\n",
            "Epoch 191/250\n",
            "11/11 [==============================] - 0s 6ms/step - loss: 0.1559 - accuracy: 0.9524 - val_loss: 0.0717 - val_accuracy: 0.9778\n",
            "Epoch 192/250\n",
            "11/11 [==============================] - 0s 6ms/step - loss: 0.0987 - accuracy: 0.9524 - val_loss: 0.0583 - val_accuracy: 1.0000\n",
            "Epoch 193/250\n",
            "11/11 [==============================] - 0s 6ms/step - loss: 0.1663 - accuracy: 0.9429 - val_loss: 0.0610 - val_accuracy: 0.9778\n",
            "Epoch 194/250\n",
            "11/11 [==============================] - 0s 7ms/step - loss: 0.1321 - accuracy: 0.9524 - val_loss: 0.0898 - val_accuracy: 0.9778\n",
            "Epoch 195/250\n",
            "11/11 [==============================] - 0s 9ms/step - loss: 0.0945 - accuracy: 0.9714 - val_loss: 0.0537 - val_accuracy: 1.0000\n",
            "Epoch 196/250\n",
            "11/11 [==============================] - 0s 7ms/step - loss: 0.0960 - accuracy: 0.9714 - val_loss: 0.1132 - val_accuracy: 0.9556\n",
            "Epoch 197/250\n",
            "11/11 [==============================] - 0s 7ms/step - loss: 0.1448 - accuracy: 0.9333 - val_loss: 0.1014 - val_accuracy: 0.9556\n",
            "Epoch 198/250\n",
            "11/11 [==============================] - 0s 6ms/step - loss: 0.1500 - accuracy: 0.9429 - val_loss: 0.1490 - val_accuracy: 0.9556\n",
            "Epoch 199/250\n",
            "11/11 [==============================] - 0s 7ms/step - loss: 0.1614 - accuracy: 0.9238 - val_loss: 0.1557 - val_accuracy: 0.8889\n",
            "Epoch 200/250\n",
            "11/11 [==============================] - 0s 8ms/step - loss: 0.1131 - accuracy: 0.9714 - val_loss: 0.1378 - val_accuracy: 0.9333\n",
            "Epoch 201/250\n",
            "11/11 [==============================] - 0s 8ms/step - loss: 0.1291 - accuracy: 0.9714 - val_loss: 0.0747 - val_accuracy: 0.9778\n",
            "Epoch 202/250\n",
            "11/11 [==============================] - 0s 6ms/step - loss: 0.1486 - accuracy: 0.9524 - val_loss: 0.0667 - val_accuracy: 0.9778\n",
            "Epoch 203/250\n",
            "11/11 [==============================] - 0s 6ms/step - loss: 0.1456 - accuracy: 0.9524 - val_loss: 0.0690 - val_accuracy: 0.9778\n",
            "Epoch 204/250\n",
            "11/11 [==============================] - 0s 7ms/step - loss: 0.1123 - accuracy: 0.9714 - val_loss: 0.0758 - val_accuracy: 0.9778\n",
            "Epoch 205/250\n",
            "11/11 [==============================] - 0s 8ms/step - loss: 0.1202 - accuracy: 0.9619 - val_loss: 0.0926 - val_accuracy: 0.9778\n",
            "Epoch 206/250\n",
            "11/11 [==============================] - 0s 6ms/step - loss: 0.1113 - accuracy: 0.9714 - val_loss: 0.0649 - val_accuracy: 0.9778\n",
            "Epoch 207/250\n",
            "11/11 [==============================] - 0s 9ms/step - loss: 0.1084 - accuracy: 0.9619 - val_loss: 0.0661 - val_accuracy: 0.9778\n",
            "Epoch 208/250\n",
            "11/11 [==============================] - 0s 7ms/step - loss: 0.0926 - accuracy: 0.9619 - val_loss: 0.0550 - val_accuracy: 0.9778\n",
            "Epoch 209/250\n",
            "11/11 [==============================] - 0s 5ms/step - loss: 0.1079 - accuracy: 0.9714 - val_loss: 0.0518 - val_accuracy: 0.9778\n",
            "Epoch 210/250\n",
            "11/11 [==============================] - 0s 6ms/step - loss: 0.1166 - accuracy: 0.9714 - val_loss: 0.1363 - val_accuracy: 0.9556\n",
            "Epoch 211/250\n",
            "11/11 [==============================] - 0s 7ms/step - loss: 0.1157 - accuracy: 0.9619 - val_loss: 0.0545 - val_accuracy: 1.0000\n",
            "Epoch 212/250\n",
            "11/11 [==============================] - 0s 5ms/step - loss: 0.0982 - accuracy: 0.9714 - val_loss: 0.0960 - val_accuracy: 0.9556\n",
            "Epoch 213/250\n",
            "11/11 [==============================] - 0s 5ms/step - loss: 0.0996 - accuracy: 0.9714 - val_loss: 0.0722 - val_accuracy: 0.9778\n",
            "Epoch 214/250\n",
            "11/11 [==============================] - 0s 5ms/step - loss: 0.0938 - accuracy: 0.9619 - val_loss: 0.0540 - val_accuracy: 1.0000\n",
            "Epoch 215/250\n",
            "11/11 [==============================] - 0s 5ms/step - loss: 0.0841 - accuracy: 0.9714 - val_loss: 0.0537 - val_accuracy: 0.9778\n",
            "Epoch 216/250\n",
            "11/11 [==============================] - 0s 5ms/step - loss: 0.1208 - accuracy: 0.9619 - val_loss: 0.0564 - val_accuracy: 0.9778\n",
            "Epoch 217/250\n",
            "11/11 [==============================] - 0s 6ms/step - loss: 0.1150 - accuracy: 0.9524 - val_loss: 0.0534 - val_accuracy: 1.0000\n",
            "Epoch 218/250\n",
            "11/11 [==============================] - 0s 5ms/step - loss: 0.2519 - accuracy: 0.9048 - val_loss: 0.4032 - val_accuracy: 0.7556\n",
            "Epoch 219/250\n",
            "11/11 [==============================] - 0s 7ms/step - loss: 0.1930 - accuracy: 0.9143 - val_loss: 0.2142 - val_accuracy: 0.9111\n",
            "Epoch 220/250\n",
            "11/11 [==============================] - 0s 6ms/step - loss: 0.1413 - accuracy: 0.9429 - val_loss: 0.0917 - val_accuracy: 1.0000\n",
            "Epoch 221/250\n",
            "11/11 [==============================] - 0s 7ms/step - loss: 0.1214 - accuracy: 0.9524 - val_loss: 0.0601 - val_accuracy: 0.9778\n",
            "Epoch 222/250\n",
            "11/11 [==============================] - 0s 6ms/step - loss: 0.1260 - accuracy: 0.9619 - val_loss: 0.0544 - val_accuracy: 1.0000\n",
            "Epoch 223/250\n",
            "11/11 [==============================] - 0s 8ms/step - loss: 0.1306 - accuracy: 0.9333 - val_loss: 0.0865 - val_accuracy: 0.9778\n",
            "Epoch 224/250\n",
            "11/11 [==============================] - 0s 8ms/step - loss: 0.1240 - accuracy: 0.9619 - val_loss: 0.0953 - val_accuracy: 0.9556\n",
            "Epoch 225/250\n",
            "11/11 [==============================] - 0s 6ms/step - loss: 0.0909 - accuracy: 0.9714 - val_loss: 0.0781 - val_accuracy: 1.0000\n",
            "Epoch 226/250\n",
            "11/11 [==============================] - 0s 7ms/step - loss: 0.0958 - accuracy: 0.9714 - val_loss: 0.2007 - val_accuracy: 0.9333\n",
            "Epoch 227/250\n",
            "11/11 [==============================] - 0s 7ms/step - loss: 0.1907 - accuracy: 0.9143 - val_loss: 0.1910 - val_accuracy: 0.8667\n",
            "Epoch 228/250\n",
            "11/11 [==============================] - 0s 7ms/step - loss: 0.1578 - accuracy: 0.9429 - val_loss: 0.1048 - val_accuracy: 0.9778\n",
            "Epoch 229/250\n",
            "11/11 [==============================] - 0s 7ms/step - loss: 0.1112 - accuracy: 0.9810 - val_loss: 0.0945 - val_accuracy: 0.9778\n",
            "Epoch 230/250\n",
            "11/11 [==============================] - 0s 6ms/step - loss: 0.1326 - accuracy: 0.9524 - val_loss: 0.0659 - val_accuracy: 0.9778\n",
            "Epoch 231/250\n",
            "11/11 [==============================] - 0s 6ms/step - loss: 0.1440 - accuracy: 0.9333 - val_loss: 0.0848 - val_accuracy: 0.9778\n",
            "Epoch 232/250\n",
            "11/11 [==============================] - 0s 9ms/step - loss: 0.1459 - accuracy: 0.9333 - val_loss: 0.0702 - val_accuracy: 0.9778\n",
            "Epoch 233/250\n",
            "11/11 [==============================] - 0s 7ms/step - loss: 0.1534 - accuracy: 0.9524 - val_loss: 0.0826 - val_accuracy: 0.9778\n",
            "Epoch 234/250\n",
            "11/11 [==============================] - 0s 8ms/step - loss: 0.2460 - accuracy: 0.9238 - val_loss: 0.2204 - val_accuracy: 0.8667\n",
            "Epoch 235/250\n",
            "11/11 [==============================] - 0s 7ms/step - loss: 0.1078 - accuracy: 0.9524 - val_loss: 0.2395 - val_accuracy: 0.9333\n",
            "Epoch 236/250\n",
            "11/11 [==============================] - 0s 6ms/step - loss: 0.1619 - accuracy: 0.9333 - val_loss: 0.1028 - val_accuracy: 0.9778\n",
            "Epoch 237/250\n",
            "11/11 [==============================] - 0s 6ms/step - loss: 0.1176 - accuracy: 0.9619 - val_loss: 0.0929 - val_accuracy: 0.9778\n",
            "Epoch 238/250\n",
            "11/11 [==============================] - 0s 7ms/step - loss: 0.1377 - accuracy: 0.9524 - val_loss: 0.0901 - val_accuracy: 0.9778\n",
            "Epoch 239/250\n",
            "11/11 [==============================] - 0s 5ms/step - loss: 0.1103 - accuracy: 0.9524 - val_loss: 0.0699 - val_accuracy: 0.9778\n",
            "Epoch 240/250\n",
            "11/11 [==============================] - 0s 7ms/step - loss: 0.0951 - accuracy: 0.9619 - val_loss: 0.1050 - val_accuracy: 0.9556\n",
            "Epoch 241/250\n",
            "11/11 [==============================] - 0s 5ms/step - loss: 0.1205 - accuracy: 0.9429 - val_loss: 0.1018 - val_accuracy: 0.9556\n",
            "Epoch 242/250\n",
            "11/11 [==============================] - 0s 6ms/step - loss: 0.1269 - accuracy: 0.9524 - val_loss: 0.1511 - val_accuracy: 0.9556\n",
            "Epoch 243/250\n",
            "11/11 [==============================] - 0s 7ms/step - loss: 0.1166 - accuracy: 0.9429 - val_loss: 0.0850 - val_accuracy: 0.9778\n",
            "Epoch 244/250\n",
            "11/11 [==============================] - 0s 7ms/step - loss: 0.1166 - accuracy: 0.9714 - val_loss: 0.0753 - val_accuracy: 0.9778\n",
            "Epoch 245/250\n",
            "11/11 [==============================] - 0s 6ms/step - loss: 0.1026 - accuracy: 0.9619 - val_loss: 0.0702 - val_accuracy: 0.9778\n",
            "Epoch 246/250\n",
            "11/11 [==============================] - 0s 6ms/step - loss: 0.1133 - accuracy: 0.9619 - val_loss: 0.0700 - val_accuracy: 1.0000\n",
            "Epoch 247/250\n",
            "11/11 [==============================] - 0s 7ms/step - loss: 0.0791 - accuracy: 0.9714 - val_loss: 0.0621 - val_accuracy: 1.0000\n",
            "Epoch 248/250\n",
            "11/11 [==============================] - 0s 8ms/step - loss: 0.0809 - accuracy: 0.9714 - val_loss: 0.0750 - val_accuracy: 0.9778\n",
            "Epoch 249/250\n",
            "11/11 [==============================] - 0s 7ms/step - loss: 0.1112 - accuracy: 0.9524 - val_loss: 0.0562 - val_accuracy: 0.9778\n",
            "Epoch 250/250\n",
            "11/11 [==============================] - 0s 8ms/step - loss: 0.0973 - accuracy: 0.9619 - val_loss: 0.1716 - val_accuracy: 0.9556\n"
          ]
        }
      ]
    },
    {
      "cell_type": "code",
      "metadata": {
        "colab": {
          "base_uri": "https://localhost:8080/"
        },
        "id": "W4rJz4PRpbPV",
        "outputId": "fffbf691-3acc-4dca-aa0c-d20a5b78b19f"
      },
      "source": [
        "scores = model.evaluate(xtest,ytest) #akurasi data testing\n",
        "print(\"\\n%s: %.2f%%\" % (model.metrics_names[1], scores[1]*100))"
      ],
      "execution_count": 42,
      "outputs": [
        {
          "output_type": "stream",
          "name": "stdout",
          "text": [
            "2/2 [==============================] - 0s 10ms/step - loss: 0.1716 - accuracy: 0.9556\n",
            "\n",
            "accuracy: 95.56%\n"
          ]
        }
      ]
    },
    {
      "cell_type": "code",
      "metadata": {
        "id": "HctCb1nTpbRZ"
      },
      "source": [
        "test_pred = model.predict(xtest)"
      ],
      "execution_count": 43,
      "outputs": []
    },
    {
      "cell_type": "code",
      "metadata": {
        "colab": {
          "base_uri": "https://localhost:8080/"
        },
        "id": "RPqx4bdVpbT5",
        "outputId": "ae799398-196e-419d-9c4d-a60e551f638b"
      },
      "source": [
        "from sklearn.metrics import confusion_matrix #data training\n",
        "cm = confusion_mtx = confusion_matrix(ytest.argmax(axis=1), test_pred.argmax(axis=1))\n",
        "\n",
        "cm"
      ],
      "execution_count": 44,
      "outputs": [
        {
          "output_type": "execute_result",
          "data": {
            "text/plain": [
              "array([[14,  0,  0],\n",
              "       [ 0, 18,  0],\n",
              "       [ 0,  2, 11]])"
            ]
          },
          "metadata": {},
          "execution_count": 44
        }
      ]
    },
    {
      "cell_type": "code",
      "metadata": {
        "colab": {
          "base_uri": "https://localhost:8080/",
          "height": 396
        },
        "id": "kzW_DRpHpbWM",
        "outputId": "130d593c-8887-493c-daec-307d3adb244d"
      },
      "source": [
        "cm_df = pd.DataFrame(cm)                      \n",
        "plt.figure(figsize=(10,6)) \n",
        "sns.heatmap(cm_df, annot=True)"
      ],
      "execution_count": 45,
      "outputs": [
        {
          "output_type": "execute_result",
          "data": {
            "text/plain": [
              "<matplotlib.axes._subplots.AxesSubplot at 0x7f0766c38e10>"
            ]
          },
          "metadata": {},
          "execution_count": 45
        },
        {
          "output_type": "display_data",
          "data": {
            "text/plain": [
              "<Figure size 720x432 with 2 Axes>"
            ],
            "image/png": "[encoded data removed]"
          },
          "metadata": {
            "needs_background": "light"
          }
        }
      ]
    },
    {
      "cell_type": "code",
      "metadata": {
        "colab": {
          "base_uri": "https://localhost:8080/"
        },
        "id": "17e15Zm0pbYo",
        "outputId": "6fe657f6-64eb-44b4-cd1b-0c47568b33ed"
      },
      "source": [
        "from sklearn.metrics import classification_report\n",
        "print(classification_report(ytest.argmax(axis=1), test_pred.argmax(axis=1)))"
      ],
      "execution_count": 46,
      "outputs": [
        {
          "output_type": "stream",
          "name": "stdout",
          "text": [
            "              precision    recall  f1-score   support\n",
            "\n",
            "           0       1.00      1.00      1.00        14\n",
            "           1       0.90      1.00      0.95        18\n",
            "           2       1.00      0.85      0.92        13\n",
            "\n",
            "    accuracy                           0.96        45\n",
            "   macro avg       0.97      0.95      0.95        45\n",
            "weighted avg       0.96      0.96      0.95        45\n",
            "\n"
          ]
        }
      ]
    },
    {
      "cell_type": "code",
      "metadata": {
        "id": "TB7lrz3fpb0Q"
      },
      "source": [
        ""
      ],
      "execution_count": null,
      "outputs": []
    }
  ]
}